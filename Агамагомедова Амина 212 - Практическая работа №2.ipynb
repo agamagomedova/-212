{
 "cells": [
  {
   "cell_type": "markdown",
   "id": "ebb06b6a",
   "metadata": {},
   "source": [
    "# Введение"
   ]
  },
  {
   "cell_type": "markdown",
   "id": "87089e60",
   "metadata": {},
   "source": [
    "Исследование будет строится на данных опроса более 100 респондентов из Малайзии, которые посещают Starbucks. \n",
    "\n",
    "Данные содержат следующие характеристики об опрошенных:\n",
    "* Социодемографические характеристики - возраст, пол, занятость, доход\n",
    "* Характеристики текущего поведения респондентов в Starbucks \n",
    "* Факторы Starbucks, которые влияют на отношение респондентов\n",
    "\n",
    "Выбранный датасет позволит выявить некоторые закономерности в потребительском поведении респондентов, а также\n",
    "посмотреть, какие характеристики Starbucks наиболее важны для клиентов."
   ]
  },
  {
   "cell_type": "markdown",
   "id": "13e4e05c",
   "metadata": {},
   "source": [
    "# Первичный анализ данных"
   ]
  },
  {
   "cell_type": "markdown",
   "id": "03dba18a",
   "metadata": {},
   "source": [
    "Загрузим необходимые библиотеки python и выгрузим наш датасет."
   ]
  },
  {
   "cell_type": "code",
   "execution_count": 1,
   "id": "411ad69b",
   "metadata": {},
   "outputs": [],
   "source": [
    "import pandas as pd"
   ]
  },
  {
   "cell_type": "code",
   "execution_count": 2,
   "id": "0a394abe",
   "metadata": {},
   "outputs": [],
   "source": [
    "import numpy as np"
   ]
  },
  {
   "cell_type": "code",
   "execution_count": 3,
   "id": "43ef1678",
   "metadata": {},
   "outputs": [],
   "source": [
    "import seaborn as sns"
   ]
  },
  {
   "cell_type": "code",
   "execution_count": 4,
   "id": "01a7ac4e",
   "metadata": {},
   "outputs": [],
   "source": [
    "import matplotlib.pyplot as plt"
   ]
  },
  {
   "cell_type": "code",
   "execution_count": 5,
   "id": "c65fa313",
   "metadata": {},
   "outputs": [],
   "source": [
    "import statsmodels.api as sm"
   ]
  },
  {
   "cell_type": "code",
   "execution_count": 6,
   "id": "d2e87cc6",
   "metadata": {},
   "outputs": [],
   "source": [
    "survey = pd.read_csv('/Users/agamagomedova/Downloads/archive-3/Starbucks satisfactory survey.csv')"
   ]
  },
  {
   "cell_type": "markdown",
   "id": "70d51036",
   "metadata": {},
   "source": [
    "Оценим размер датасета, посмотрим на основные столбцы данных и, для удобства анализа, переименуем столбцы."
   ]
  },
  {
   "cell_type": "code",
   "execution_count": 7,
   "id": "7d69b6fd",
   "metadata": {},
   "outputs": [
    {
     "data": {
      "text/plain": [
       "(122, 21)"
      ]
     },
     "execution_count": 7,
     "metadata": {},
     "output_type": "execute_result"
    }
   ],
   "source": [
    "survey.shape"
   ]
  },
  {
   "cell_type": "code",
   "execution_count": 8,
   "id": "e20c2e77",
   "metadata": {
    "scrolled": true
   },
   "outputs": [
    {
     "data": {
      "text/html": [
       "<div>\n",
       "<style scoped>\n",
       "    .dataframe tbody tr th:only-of-type {\n",
       "        vertical-align: middle;\n",
       "    }\n",
       "\n",
       "    .dataframe tbody tr th {\n",
       "        vertical-align: top;\n",
       "    }\n",
       "\n",
       "    .dataframe thead th {\n",
       "        text-align: right;\n",
       "    }\n",
       "</style>\n",
       "<table border=\"1\" class=\"dataframe\">\n",
       "  <thead>\n",
       "    <tr style=\"text-align: right;\">\n",
       "      <th></th>\n",
       "      <th>Timestamp</th>\n",
       "      <th>1. Your Gender</th>\n",
       "      <th>2. Your Age</th>\n",
       "      <th>3. Are you currently....?</th>\n",
       "      <th>4. What is your annual income?</th>\n",
       "      <th>5. How often do you visit Starbucks?</th>\n",
       "      <th>6. How do you usually enjoy Starbucks?</th>\n",
       "      <th>7. How much time do you normally  spend during your visit?</th>\n",
       "      <th>8. The nearest Starbucks's outlet to you is...?</th>\n",
       "      <th>9. Do you have Starbucks membership card?</th>\n",
       "      <th>...</th>\n",
       "      <th>11. On average, how much would you spend at Starbucks per visit?</th>\n",
       "      <th>12. How would you rate the quality of Starbucks compared to other brands (Coffee Bean, Old Town White Coffee..) to be:</th>\n",
       "      <th>13. How would you rate the price range at Starbucks?</th>\n",
       "      <th>14. How important are sales and promotions in your purchase decision?</th>\n",
       "      <th>15. How would you rate the ambiance at Starbucks? (lighting, music, etc...)</th>\n",
       "      <th>16. You rate the WiFi quality at Starbucks as..</th>\n",
       "      <th>17. How would you rate the service at Starbucks? (Promptness, friendliness, etc..)</th>\n",
       "      <th>18. How likely you will choose Starbucks for doing business meetings or hangout with friends?</th>\n",
       "      <th>19. How do you come to hear of promotions at Starbucks? Check all that apply.</th>\n",
       "      <th>20. Will you continue buying at Starbucks?</th>\n",
       "    </tr>\n",
       "  </thead>\n",
       "  <tbody>\n",
       "    <tr>\n",
       "      <th>0</th>\n",
       "      <td>2019/10/01 12:38:43 PM GMT+8</td>\n",
       "      <td>Female</td>\n",
       "      <td>From 20 to 29</td>\n",
       "      <td>Student</td>\n",
       "      <td>Less than RM25,000</td>\n",
       "      <td>Rarely</td>\n",
       "      <td>Dine in</td>\n",
       "      <td>Between 30 minutes to 1 hour</td>\n",
       "      <td>within 1km</td>\n",
       "      <td>Yes</td>\n",
       "      <td>...</td>\n",
       "      <td>Less than RM20</td>\n",
       "      <td>4</td>\n",
       "      <td>3</td>\n",
       "      <td>5</td>\n",
       "      <td>5</td>\n",
       "      <td>4</td>\n",
       "      <td>4</td>\n",
       "      <td>3</td>\n",
       "      <td>Starbucks Website/Apps;Social Media;Emails;Dea...</td>\n",
       "      <td>Yes</td>\n",
       "    </tr>\n",
       "    <tr>\n",
       "      <th>1</th>\n",
       "      <td>2019/10/01 12:38:54 PM GMT+8</td>\n",
       "      <td>Female</td>\n",
       "      <td>From 20 to 29</td>\n",
       "      <td>Student</td>\n",
       "      <td>Less than RM25,000</td>\n",
       "      <td>Rarely</td>\n",
       "      <td>Take away</td>\n",
       "      <td>Below 30 minutes</td>\n",
       "      <td>1km - 3km</td>\n",
       "      <td>Yes</td>\n",
       "      <td>...</td>\n",
       "      <td>Less than RM20</td>\n",
       "      <td>4</td>\n",
       "      <td>3</td>\n",
       "      <td>4</td>\n",
       "      <td>4</td>\n",
       "      <td>4</td>\n",
       "      <td>5</td>\n",
       "      <td>2</td>\n",
       "      <td>Social Media;In Store displays</td>\n",
       "      <td>Yes</td>\n",
       "    </tr>\n",
       "  </tbody>\n",
       "</table>\n",
       "<p>2 rows × 21 columns</p>\n",
       "</div>"
      ],
      "text/plain": [
       "                      Timestamp 1. Your Gender    2. Your Age  \\\n",
       "0  2019/10/01 12:38:43 PM GMT+8         Female  From 20 to 29   \n",
       "1  2019/10/01 12:38:54 PM GMT+8         Female  From 20 to 29   \n",
       "\n",
       "  3. Are you currently....? 4. What is your annual income?  \\\n",
       "0                   Student             Less than RM25,000   \n",
       "1                   Student             Less than RM25,000   \n",
       "\n",
       "  5. How often do you visit Starbucks? 6. How do you usually enjoy Starbucks?  \\\n",
       "0                               Rarely                                Dine in   \n",
       "1                               Rarely                              Take away   \n",
       "\n",
       "  7. How much time do you normally  spend during your visit?  \\\n",
       "0                       Between 30 minutes to 1 hour           \n",
       "1                                   Below 30 minutes           \n",
       "\n",
       "  8. The nearest Starbucks's outlet to you is...?  \\\n",
       "0                                      within 1km   \n",
       "1                                       1km - 3km   \n",
       "\n",
       "  9. Do you have Starbucks membership card?  ...  \\\n",
       "0                                       Yes  ...   \n",
       "1                                       Yes  ...   \n",
       "\n",
       "  11. On average, how much would you spend at Starbucks per visit?  \\\n",
       "0                                     Less than RM20                 \n",
       "1                                     Less than RM20                 \n",
       "\n",
       "  12. How would you rate the quality of Starbucks compared to other brands (Coffee Bean, Old Town White Coffee..) to be:  \\\n",
       "0                                                  4                                                                       \n",
       "1                                                  4                                                                       \n",
       "\n",
       "   13. How would you rate the price range at Starbucks?  \\\n",
       "0                                                  3      \n",
       "1                                                  3      \n",
       "\n",
       "   14. How important are sales and promotions in your purchase decision?  \\\n",
       "0                                                  5                       \n",
       "1                                                  4                       \n",
       "\n",
       "   15. How would you rate the ambiance at Starbucks? (lighting, music, etc...)  \\\n",
       "0                                                  5                             \n",
       "1                                                  4                             \n",
       "\n",
       "   16. You rate the WiFi quality at Starbucks as..  \\\n",
       "0                                                4   \n",
       "1                                                4   \n",
       "\n",
       "   17. How would you rate the service at Starbucks? (Promptness, friendliness, etc..)  \\\n",
       "0                                                  4                                    \n",
       "1                                                  5                                    \n",
       "\n",
       "   18. How likely you will choose Starbucks for doing business meetings or hangout with friends?  \\\n",
       "0                                                  3                                               \n",
       "1                                                  2                                               \n",
       "\n",
       "   19. How do you come to hear of promotions at Starbucks? Check all that apply.  \\\n",
       "0  Starbucks Website/Apps;Social Media;Emails;Dea...                               \n",
       "1                     Social Media;In Store displays                               \n",
       "\n",
       "  20. Will you continue buying at Starbucks?  \n",
       "0                                        Yes  \n",
       "1                                        Yes  \n",
       "\n",
       "[2 rows x 21 columns]"
      ]
     },
     "execution_count": 8,
     "metadata": {},
     "output_type": "execute_result"
    }
   ],
   "source": [
    "survey.head(2)"
   ]
  },
  {
   "cell_type": "code",
   "execution_count": 9,
   "id": "c1160302",
   "metadata": {},
   "outputs": [],
   "source": [
    "survey.rename(columns = {'Timestamp' : 'time', \n",
    "                         '1. Your Gender' : 'gender', \n",
    "                         '2. Your Age' : 'age', \n",
    "                         '3. Are you currently....?' : 'occupation', \n",
    "                         '4. What is your annual income?' : 'income',\n",
    "                         '5. How often do you visit Starbucks?' : 'visits', \n",
    "                         '6. How do you usually enjoy Starbucks?' : 'takeaway',\n",
    "                         '7. How much time do you normally spend during your visit?' : 'avgtime', \n",
    "                         \"8. The nearest Starbucks's outlet to you is...?\" : 'nearest', \n",
    "                         '9. Do you have Starbucks membership card?' : 'card', \n",
    "                         '10. What do you most frequently purchase at Starbucks?' : 'favourite',\n",
    "                         '11. On average, how much would you spend at Starbucks per visit?' : 'bill', \n",
    "                         '12. How would you rate the quality of Starbucks compared to other brands (Coffee Bean, Old Town White Coffee..) to be:' : 'quality',\n",
    "                         '13. How would you rate the price range at Starbucks?' : 'price', \n",
    "                         '14. How important are sales and promotions in your purchase decision?' : 'promoeffect', \n",
    "                         '15. How would you rate the ambiance at Starbucks? (lighting, music, etc...)' : 'vibe', \n",
    "                         '16. You rate the WiFi quality at Starbucks as..' : 'wifi', \n",
    "                         '17. How would you rate the service at Starbucks? (Promptness, friendliness, etc..)' : 'service', \n",
    "                         '18. How likely you will choose Starbucks for doing business meetings or hangout with friends?' : 'choice', \n",
    "                         '19. How do you come to hear of promotions at Starbucks? Check all that apply.' : 'promosource', \n",
    "                         '20. Will you continue buying at Starbucks?' : 'intent'}, inplace = True) "
   ]
  },
  {
   "cell_type": "code",
   "execution_count": 10,
   "id": "0a1376b9",
   "metadata": {},
   "outputs": [
    {
     "data": {
      "text/html": [
       "<div>\n",
       "<style scoped>\n",
       "    .dataframe tbody tr th:only-of-type {\n",
       "        vertical-align: middle;\n",
       "    }\n",
       "\n",
       "    .dataframe tbody tr th {\n",
       "        vertical-align: top;\n",
       "    }\n",
       "\n",
       "    .dataframe thead th {\n",
       "        text-align: right;\n",
       "    }\n",
       "</style>\n",
       "<table border=\"1\" class=\"dataframe\">\n",
       "  <thead>\n",
       "    <tr style=\"text-align: right;\">\n",
       "      <th></th>\n",
       "      <th>time</th>\n",
       "      <th>gender</th>\n",
       "      <th>age</th>\n",
       "      <th>occupation</th>\n",
       "      <th>income</th>\n",
       "      <th>visits</th>\n",
       "      <th>takeaway</th>\n",
       "      <th>7. How much time do you normally  spend during your visit?</th>\n",
       "      <th>nearest</th>\n",
       "      <th>card</th>\n",
       "      <th>...</th>\n",
       "      <th>bill</th>\n",
       "      <th>quality</th>\n",
       "      <th>price</th>\n",
       "      <th>promoeffect</th>\n",
       "      <th>vibe</th>\n",
       "      <th>wifi</th>\n",
       "      <th>service</th>\n",
       "      <th>choice</th>\n",
       "      <th>promosource</th>\n",
       "      <th>intent</th>\n",
       "    </tr>\n",
       "  </thead>\n",
       "  <tbody>\n",
       "    <tr>\n",
       "      <th>0</th>\n",
       "      <td>2019/10/01 12:38:43 PM GMT+8</td>\n",
       "      <td>Female</td>\n",
       "      <td>From 20 to 29</td>\n",
       "      <td>Student</td>\n",
       "      <td>Less than RM25,000</td>\n",
       "      <td>Rarely</td>\n",
       "      <td>Dine in</td>\n",
       "      <td>Between 30 minutes to 1 hour</td>\n",
       "      <td>within 1km</td>\n",
       "      <td>Yes</td>\n",
       "      <td>...</td>\n",
       "      <td>Less than RM20</td>\n",
       "      <td>4</td>\n",
       "      <td>3</td>\n",
       "      <td>5</td>\n",
       "      <td>5</td>\n",
       "      <td>4</td>\n",
       "      <td>4</td>\n",
       "      <td>3</td>\n",
       "      <td>Starbucks Website/Apps;Social Media;Emails;Dea...</td>\n",
       "      <td>Yes</td>\n",
       "    </tr>\n",
       "    <tr>\n",
       "      <th>1</th>\n",
       "      <td>2019/10/01 12:38:54 PM GMT+8</td>\n",
       "      <td>Female</td>\n",
       "      <td>From 20 to 29</td>\n",
       "      <td>Student</td>\n",
       "      <td>Less than RM25,000</td>\n",
       "      <td>Rarely</td>\n",
       "      <td>Take away</td>\n",
       "      <td>Below 30 minutes</td>\n",
       "      <td>1km - 3km</td>\n",
       "      <td>Yes</td>\n",
       "      <td>...</td>\n",
       "      <td>Less than RM20</td>\n",
       "      <td>4</td>\n",
       "      <td>3</td>\n",
       "      <td>4</td>\n",
       "      <td>4</td>\n",
       "      <td>4</td>\n",
       "      <td>5</td>\n",
       "      <td>2</td>\n",
       "      <td>Social Media;In Store displays</td>\n",
       "      <td>Yes</td>\n",
       "    </tr>\n",
       "    <tr>\n",
       "      <th>2</th>\n",
       "      <td>2019/10/01 12:38:56 PM GMT+8</td>\n",
       "      <td>Male</td>\n",
       "      <td>From 20 to 29</td>\n",
       "      <td>Employed</td>\n",
       "      <td>Less than RM25,000</td>\n",
       "      <td>Monthly</td>\n",
       "      <td>Dine in</td>\n",
       "      <td>Between 30 minutes to 1 hour</td>\n",
       "      <td>more than 3km</td>\n",
       "      <td>Yes</td>\n",
       "      <td>...</td>\n",
       "      <td>Less than RM20</td>\n",
       "      <td>4</td>\n",
       "      <td>3</td>\n",
       "      <td>4</td>\n",
       "      <td>4</td>\n",
       "      <td>4</td>\n",
       "      <td>4</td>\n",
       "      <td>3</td>\n",
       "      <td>In Store displays;Billboards</td>\n",
       "      <td>Yes</td>\n",
       "    </tr>\n",
       "    <tr>\n",
       "      <th>3</th>\n",
       "      <td>2019/10/01 12:39:08 PM GMT+8</td>\n",
       "      <td>Female</td>\n",
       "      <td>From 20 to 29</td>\n",
       "      <td>Student</td>\n",
       "      <td>Less than RM25,000</td>\n",
       "      <td>Rarely</td>\n",
       "      <td>Take away</td>\n",
       "      <td>Below 30 minutes</td>\n",
       "      <td>more than 3km</td>\n",
       "      <td>No</td>\n",
       "      <td>...</td>\n",
       "      <td>Less than RM20</td>\n",
       "      <td>2</td>\n",
       "      <td>1</td>\n",
       "      <td>4</td>\n",
       "      <td>3</td>\n",
       "      <td>3</td>\n",
       "      <td>3</td>\n",
       "      <td>3</td>\n",
       "      <td>Through friends and word of mouth</td>\n",
       "      <td>No</td>\n",
       "    </tr>\n",
       "    <tr>\n",
       "      <th>4</th>\n",
       "      <td>2019/10/01 12:39:20 PM GMT+8</td>\n",
       "      <td>Male</td>\n",
       "      <td>From 20 to 29</td>\n",
       "      <td>Student</td>\n",
       "      <td>Less than RM25,000</td>\n",
       "      <td>Monthly</td>\n",
       "      <td>Take away</td>\n",
       "      <td>Between 30 minutes to 1 hour</td>\n",
       "      <td>1km - 3km</td>\n",
       "      <td>No</td>\n",
       "      <td>...</td>\n",
       "      <td>Around RM20 - RM40</td>\n",
       "      <td>3</td>\n",
       "      <td>3</td>\n",
       "      <td>4</td>\n",
       "      <td>2</td>\n",
       "      <td>2</td>\n",
       "      <td>3</td>\n",
       "      <td>3</td>\n",
       "      <td>Starbucks Website/Apps;Social Media</td>\n",
       "      <td>Yes</td>\n",
       "    </tr>\n",
       "    <tr>\n",
       "      <th>5</th>\n",
       "      <td>2019/10/01 12:39:39 PM GMT+8</td>\n",
       "      <td>Female</td>\n",
       "      <td>From 20 to 29</td>\n",
       "      <td>Student</td>\n",
       "      <td>Less than RM25,000</td>\n",
       "      <td>Rarely</td>\n",
       "      <td>Dine in</td>\n",
       "      <td>Between 30 minutes to 1 hour</td>\n",
       "      <td>more than 3km</td>\n",
       "      <td>No</td>\n",
       "      <td>...</td>\n",
       "      <td>Less than RM20</td>\n",
       "      <td>4</td>\n",
       "      <td>3</td>\n",
       "      <td>5</td>\n",
       "      <td>5</td>\n",
       "      <td>4</td>\n",
       "      <td>5</td>\n",
       "      <td>4</td>\n",
       "      <td>Social Media</td>\n",
       "      <td>Yes</td>\n",
       "    </tr>\n",
       "    <tr>\n",
       "      <th>6</th>\n",
       "      <td>2019/10/01 12:39:42 PM GMT+8</td>\n",
       "      <td>Female</td>\n",
       "      <td>From 20 to 29</td>\n",
       "      <td>Student</td>\n",
       "      <td>Less than RM25,000</td>\n",
       "      <td>Rarely</td>\n",
       "      <td>Dine in</td>\n",
       "      <td>Below 30 minutes</td>\n",
       "      <td>within 1km</td>\n",
       "      <td>Yes</td>\n",
       "      <td>...</td>\n",
       "      <td>Around RM20 - RM40</td>\n",
       "      <td>5</td>\n",
       "      <td>5</td>\n",
       "      <td>5</td>\n",
       "      <td>5</td>\n",
       "      <td>3</td>\n",
       "      <td>5</td>\n",
       "      <td>5</td>\n",
       "      <td>Starbucks Website/Apps;Social Media</td>\n",
       "      <td>Yes</td>\n",
       "    </tr>\n",
       "    <tr>\n",
       "      <th>7</th>\n",
       "      <td>2019/10/01 12:40:58 PM GMT+8</td>\n",
       "      <td>Male</td>\n",
       "      <td>From 20 to 29</td>\n",
       "      <td>Employed</td>\n",
       "      <td>RM50,000 - RM100,000</td>\n",
       "      <td>Rarely</td>\n",
       "      <td>Dine in</td>\n",
       "      <td>Between 30 minutes to 1 hour</td>\n",
       "      <td>more than 3km</td>\n",
       "      <td>Yes</td>\n",
       "      <td>...</td>\n",
       "      <td>Less than RM20</td>\n",
       "      <td>4</td>\n",
       "      <td>2</td>\n",
       "      <td>3</td>\n",
       "      <td>3</td>\n",
       "      <td>3</td>\n",
       "      <td>3</td>\n",
       "      <td>3</td>\n",
       "      <td>Starbucks Website/Apps;Social Media;Emails;Thr...</td>\n",
       "      <td>Yes</td>\n",
       "    </tr>\n",
       "    <tr>\n",
       "      <th>8</th>\n",
       "      <td>2019/10/01 12:42:27 PM GMT+8</td>\n",
       "      <td>Female</td>\n",
       "      <td>From 20 to 29</td>\n",
       "      <td>Student</td>\n",
       "      <td>Less than RM25,000</td>\n",
       "      <td>Rarely</td>\n",
       "      <td>Drive-thru</td>\n",
       "      <td>Below 30 minutes</td>\n",
       "      <td>more than 3km</td>\n",
       "      <td>Yes</td>\n",
       "      <td>...</td>\n",
       "      <td>More than RM40</td>\n",
       "      <td>5</td>\n",
       "      <td>4</td>\n",
       "      <td>4</td>\n",
       "      <td>4</td>\n",
       "      <td>4</td>\n",
       "      <td>4</td>\n",
       "      <td>4</td>\n",
       "      <td>Starbucks Website/Apps;Social Media;Through fr...</td>\n",
       "      <td>Yes</td>\n",
       "    </tr>\n",
       "    <tr>\n",
       "      <th>9</th>\n",
       "      <td>2019/10/01 12:43:36 PM GMT+8</td>\n",
       "      <td>Male</td>\n",
       "      <td>From 20 to 29</td>\n",
       "      <td>Employed</td>\n",
       "      <td>Less than RM25,000</td>\n",
       "      <td>Monthly</td>\n",
       "      <td>Take away</td>\n",
       "      <td>Below 30 minutes</td>\n",
       "      <td>more than 3km</td>\n",
       "      <td>No</td>\n",
       "      <td>...</td>\n",
       "      <td>Around RM20 - RM40</td>\n",
       "      <td>4</td>\n",
       "      <td>3</td>\n",
       "      <td>3</td>\n",
       "      <td>4</td>\n",
       "      <td>3</td>\n",
       "      <td>3</td>\n",
       "      <td>4</td>\n",
       "      <td>Social Media;Through friends and word of mouth</td>\n",
       "      <td>Yes</td>\n",
       "    </tr>\n",
       "  </tbody>\n",
       "</table>\n",
       "<p>10 rows × 21 columns</p>\n",
       "</div>"
      ],
      "text/plain": [
       "                           time  gender            age occupation  \\\n",
       "0  2019/10/01 12:38:43 PM GMT+8  Female  From 20 to 29    Student   \n",
       "1  2019/10/01 12:38:54 PM GMT+8  Female  From 20 to 29    Student   \n",
       "2  2019/10/01 12:38:56 PM GMT+8    Male  From 20 to 29   Employed   \n",
       "3  2019/10/01 12:39:08 PM GMT+8  Female  From 20 to 29    Student   \n",
       "4  2019/10/01 12:39:20 PM GMT+8    Male  From 20 to 29    Student   \n",
       "5  2019/10/01 12:39:39 PM GMT+8  Female  From 20 to 29    Student   \n",
       "6  2019/10/01 12:39:42 PM GMT+8  Female  From 20 to 29    Student   \n",
       "7  2019/10/01 12:40:58 PM GMT+8    Male  From 20 to 29   Employed   \n",
       "8  2019/10/01 12:42:27 PM GMT+8  Female  From 20 to 29    Student   \n",
       "9  2019/10/01 12:43:36 PM GMT+8    Male  From 20 to 29   Employed   \n",
       "\n",
       "                 income   visits    takeaway  \\\n",
       "0    Less than RM25,000   Rarely     Dine in   \n",
       "1    Less than RM25,000   Rarely   Take away   \n",
       "2    Less than RM25,000  Monthly     Dine in   \n",
       "3    Less than RM25,000   Rarely   Take away   \n",
       "4    Less than RM25,000  Monthly   Take away   \n",
       "5    Less than RM25,000   Rarely     Dine in   \n",
       "6    Less than RM25,000   Rarely     Dine in   \n",
       "7  RM50,000 - RM100,000   Rarely     Dine in   \n",
       "8    Less than RM25,000   Rarely  Drive-thru   \n",
       "9    Less than RM25,000  Monthly   Take away   \n",
       "\n",
       "  7. How much time do you normally  spend during your visit?        nearest  \\\n",
       "0                       Between 30 minutes to 1 hour             within 1km   \n",
       "1                                   Below 30 minutes              1km - 3km   \n",
       "2                       Between 30 minutes to 1 hour          more than 3km   \n",
       "3                                   Below 30 minutes          more than 3km   \n",
       "4                       Between 30 minutes to 1 hour              1km - 3km   \n",
       "5                       Between 30 minutes to 1 hour          more than 3km   \n",
       "6                                   Below 30 minutes             within 1km   \n",
       "7                       Between 30 minutes to 1 hour          more than 3km   \n",
       "8                                   Below 30 minutes          more than 3km   \n",
       "9                                   Below 30 minutes          more than 3km   \n",
       "\n",
       "  card  ...                bill quality  price  promoeffect  vibe  wifi  \\\n",
       "0  Yes  ...      Less than RM20       4      3            5     5     4   \n",
       "1  Yes  ...      Less than RM20       4      3            4     4     4   \n",
       "2  Yes  ...      Less than RM20       4      3            4     4     4   \n",
       "3   No  ...      Less than RM20       2      1            4     3     3   \n",
       "4   No  ...  Around RM20 - RM40       3      3            4     2     2   \n",
       "5   No  ...      Less than RM20       4      3            5     5     4   \n",
       "6  Yes  ...  Around RM20 - RM40       5      5            5     5     3   \n",
       "7  Yes  ...      Less than RM20       4      2            3     3     3   \n",
       "8  Yes  ...      More than RM40       5      4            4     4     4   \n",
       "9   No  ...  Around RM20 - RM40       4      3            3     4     3   \n",
       "\n",
       "   service  choice                                        promosource intent  \n",
       "0        4       3  Starbucks Website/Apps;Social Media;Emails;Dea...    Yes  \n",
       "1        5       2                     Social Media;In Store displays    Yes  \n",
       "2        4       3                       In Store displays;Billboards    Yes  \n",
       "3        3       3                  Through friends and word of mouth     No  \n",
       "4        3       3                Starbucks Website/Apps;Social Media    Yes  \n",
       "5        5       4                                       Social Media    Yes  \n",
       "6        5       5                Starbucks Website/Apps;Social Media    Yes  \n",
       "7        3       3  Starbucks Website/Apps;Social Media;Emails;Thr...    Yes  \n",
       "8        4       4  Starbucks Website/Apps;Social Media;Through fr...    Yes  \n",
       "9        3       4     Social Media;Through friends and word of mouth    Yes  \n",
       "\n",
       "[10 rows x 21 columns]"
      ]
     },
     "execution_count": 10,
     "metadata": {},
     "output_type": "execute_result"
    }
   ],
   "source": [
    "survey.head(10)"
   ]
  },
  {
   "cell_type": "code",
   "execution_count": 11,
   "id": "c7048a1b",
   "metadata": {},
   "outputs": [
    {
     "data": {
      "text/plain": [
       "Index(['time', 'gender', 'age', 'occupation', 'income', 'visits', 'takeaway',\n",
       "       '7. How much time do you normally  spend during your visit?', 'nearest',\n",
       "       'card', 'favourite', 'bill', 'quality', 'price', 'promoeffect', 'vibe',\n",
       "       'wifi', 'service', 'choice', 'promosource', 'intent'],\n",
       "      dtype='object')"
      ]
     },
     "execution_count": 11,
     "metadata": {},
     "output_type": "execute_result"
    }
   ],
   "source": [
    "survey.columns"
   ]
  },
  {
   "cell_type": "markdown",
   "id": "b78db556",
   "metadata": {},
   "source": [
    "Посмотрим на описательную статистику для количественных переменных, а именно - факторов, которые влияют на решение покупать или не покупать в Starbucks."
   ]
  },
  {
   "cell_type": "code",
   "execution_count": 12,
   "id": "89e7b686",
   "metadata": {},
   "outputs": [
    {
     "data": {
      "text/html": [
       "<div>\n",
       "<style scoped>\n",
       "    .dataframe tbody tr th:only-of-type {\n",
       "        vertical-align: middle;\n",
       "    }\n",
       "\n",
       "    .dataframe tbody tr th {\n",
       "        vertical-align: top;\n",
       "    }\n",
       "\n",
       "    .dataframe thead th {\n",
       "        text-align: right;\n",
       "    }\n",
       "</style>\n",
       "<table border=\"1\" class=\"dataframe\">\n",
       "  <thead>\n",
       "    <tr style=\"text-align: right;\">\n",
       "      <th></th>\n",
       "      <th>quality</th>\n",
       "      <th>price</th>\n",
       "      <th>promoeffect</th>\n",
       "      <th>vibe</th>\n",
       "      <th>wifi</th>\n",
       "      <th>service</th>\n",
       "      <th>choice</th>\n",
       "    </tr>\n",
       "  </thead>\n",
       "  <tbody>\n",
       "    <tr>\n",
       "      <th>count</th>\n",
       "      <td>122.000000</td>\n",
       "      <td>122.000000</td>\n",
       "      <td>122.000000</td>\n",
       "      <td>122.000000</td>\n",
       "      <td>122.000000</td>\n",
       "      <td>122.000000</td>\n",
       "      <td>122.000000</td>\n",
       "    </tr>\n",
       "    <tr>\n",
       "      <th>mean</th>\n",
       "      <td>3.663934</td>\n",
       "      <td>2.893443</td>\n",
       "      <td>3.795082</td>\n",
       "      <td>3.754098</td>\n",
       "      <td>3.254098</td>\n",
       "      <td>3.745902</td>\n",
       "      <td>3.516393</td>\n",
       "    </tr>\n",
       "    <tr>\n",
       "      <th>std</th>\n",
       "      <td>0.941343</td>\n",
       "      <td>1.081836</td>\n",
       "      <td>1.090443</td>\n",
       "      <td>0.929867</td>\n",
       "      <td>0.958317</td>\n",
       "      <td>0.828834</td>\n",
       "      <td>1.030394</td>\n",
       "    </tr>\n",
       "    <tr>\n",
       "      <th>min</th>\n",
       "      <td>1.000000</td>\n",
       "      <td>1.000000</td>\n",
       "      <td>1.000000</td>\n",
       "      <td>1.000000</td>\n",
       "      <td>1.000000</td>\n",
       "      <td>1.000000</td>\n",
       "      <td>1.000000</td>\n",
       "    </tr>\n",
       "    <tr>\n",
       "      <th>25%</th>\n",
       "      <td>3.000000</td>\n",
       "      <td>2.000000</td>\n",
       "      <td>3.000000</td>\n",
       "      <td>3.000000</td>\n",
       "      <td>3.000000</td>\n",
       "      <td>3.000000</td>\n",
       "      <td>3.000000</td>\n",
       "    </tr>\n",
       "    <tr>\n",
       "      <th>50%</th>\n",
       "      <td>4.000000</td>\n",
       "      <td>3.000000</td>\n",
       "      <td>4.000000</td>\n",
       "      <td>4.000000</td>\n",
       "      <td>3.000000</td>\n",
       "      <td>4.000000</td>\n",
       "      <td>4.000000</td>\n",
       "    </tr>\n",
       "    <tr>\n",
       "      <th>75%</th>\n",
       "      <td>4.000000</td>\n",
       "      <td>4.000000</td>\n",
       "      <td>5.000000</td>\n",
       "      <td>4.000000</td>\n",
       "      <td>4.000000</td>\n",
       "      <td>4.000000</td>\n",
       "      <td>4.000000</td>\n",
       "    </tr>\n",
       "    <tr>\n",
       "      <th>max</th>\n",
       "      <td>5.000000</td>\n",
       "      <td>5.000000</td>\n",
       "      <td>5.000000</td>\n",
       "      <td>5.000000</td>\n",
       "      <td>5.000000</td>\n",
       "      <td>5.000000</td>\n",
       "      <td>5.000000</td>\n",
       "    </tr>\n",
       "  </tbody>\n",
       "</table>\n",
       "</div>"
      ],
      "text/plain": [
       "          quality       price  promoeffect        vibe        wifi  \\\n",
       "count  122.000000  122.000000   122.000000  122.000000  122.000000   \n",
       "mean     3.663934    2.893443     3.795082    3.754098    3.254098   \n",
       "std      0.941343    1.081836     1.090443    0.929867    0.958317   \n",
       "min      1.000000    1.000000     1.000000    1.000000    1.000000   \n",
       "25%      3.000000    2.000000     3.000000    3.000000    3.000000   \n",
       "50%      4.000000    3.000000     4.000000    4.000000    3.000000   \n",
       "75%      4.000000    4.000000     5.000000    4.000000    4.000000   \n",
       "max      5.000000    5.000000     5.000000    5.000000    5.000000   \n",
       "\n",
       "          service      choice  \n",
       "count  122.000000  122.000000  \n",
       "mean     3.745902    3.516393  \n",
       "std      0.828834    1.030394  \n",
       "min      1.000000    1.000000  \n",
       "25%      3.000000    3.000000  \n",
       "50%      4.000000    4.000000  \n",
       "75%      4.000000    4.000000  \n",
       "max      5.000000    5.000000  "
      ]
     },
     "execution_count": 12,
     "metadata": {},
     "output_type": "execute_result"
    }
   ],
   "source": [
    "survey.describe()"
   ]
  },
  {
   "cell_type": "markdown",
   "id": "a855a967",
   "metadata": {},
   "source": [
    "Интересно, что все средние по количественным вопросам на оценку факторов Starbucks расположились в интервале 3.5-3.8 из 5.0, кроме ценового фактора. В среднем, цены на продукцию Starbucks респонденты оценили на 2.9 из 5.0, что не удивительно - цены в Starbucks всегда выше среднего.\n",
    "\n",
    "Также отметим, что 75-й перцентиль распределения ответов на все упомянутые вопросы равен 4.0, кроме фактора эффекта рекламы - для этой переменной этот показатель равен 5.0. Так, 25% или больше респондентов из выборки оценили эффект от рекламы на их решение о покупке в Starbucks на 5.0/5.0.\n",
    "\n",
    "Посмотрим на статистику категориальных переменных."
   ]
  },
  {
   "cell_type": "code",
   "execution_count": 13,
   "id": "9a9bb363",
   "metadata": {},
   "outputs": [
    {
     "data": {
      "text/html": [
       "<div>\n",
       "<style scoped>\n",
       "    .dataframe tbody tr th:only-of-type {\n",
       "        vertical-align: middle;\n",
       "    }\n",
       "\n",
       "    .dataframe tbody tr th {\n",
       "        vertical-align: top;\n",
       "    }\n",
       "\n",
       "    .dataframe thead th {\n",
       "        text-align: right;\n",
       "    }\n",
       "</style>\n",
       "<table border=\"1\" class=\"dataframe\">\n",
       "  <thead>\n",
       "    <tr style=\"text-align: right;\">\n",
       "      <th></th>\n",
       "      <th>time</th>\n",
       "      <th>gender</th>\n",
       "      <th>age</th>\n",
       "      <th>occupation</th>\n",
       "      <th>income</th>\n",
       "      <th>visits</th>\n",
       "      <th>takeaway</th>\n",
       "      <th>7. How much time do you normally  spend during your visit?</th>\n",
       "      <th>nearest</th>\n",
       "      <th>card</th>\n",
       "      <th>favourite</th>\n",
       "      <th>bill</th>\n",
       "      <th>promosource</th>\n",
       "      <th>intent</th>\n",
       "    </tr>\n",
       "  </thead>\n",
       "  <tbody>\n",
       "    <tr>\n",
       "      <th>count</th>\n",
       "      <td>122</td>\n",
       "      <td>122</td>\n",
       "      <td>122</td>\n",
       "      <td>122</td>\n",
       "      <td>122</td>\n",
       "      <td>122</td>\n",
       "      <td>121</td>\n",
       "      <td>122</td>\n",
       "      <td>122</td>\n",
       "      <td>122</td>\n",
       "      <td>122</td>\n",
       "      <td>122</td>\n",
       "      <td>121</td>\n",
       "      <td>122</td>\n",
       "    </tr>\n",
       "    <tr>\n",
       "      <th>unique</th>\n",
       "      <td>122</td>\n",
       "      <td>2</td>\n",
       "      <td>4</td>\n",
       "      <td>4</td>\n",
       "      <td>5</td>\n",
       "      <td>5</td>\n",
       "      <td>8</td>\n",
       "      <td>5</td>\n",
       "      <td>3</td>\n",
       "      <td>2</td>\n",
       "      <td>20</td>\n",
       "      <td>4</td>\n",
       "      <td>31</td>\n",
       "      <td>2</td>\n",
       "    </tr>\n",
       "    <tr>\n",
       "      <th>top</th>\n",
       "      <td>2019/10/01 12:38:43 PM GMT+8</td>\n",
       "      <td>Female</td>\n",
       "      <td>From 20 to 29</td>\n",
       "      <td>Employed</td>\n",
       "      <td>Less than RM25,000</td>\n",
       "      <td>Rarely</td>\n",
       "      <td>Take away</td>\n",
       "      <td>Below 30 minutes</td>\n",
       "      <td>more than 3km</td>\n",
       "      <td>No</td>\n",
       "      <td>Coffee</td>\n",
       "      <td>Less than RM20</td>\n",
       "      <td>Social Media</td>\n",
       "      <td>Yes</td>\n",
       "    </tr>\n",
       "    <tr>\n",
       "      <th>freq</th>\n",
       "      <td>1</td>\n",
       "      <td>65</td>\n",
       "      <td>85</td>\n",
       "      <td>61</td>\n",
       "      <td>71</td>\n",
       "      <td>76</td>\n",
       "      <td>49</td>\n",
       "      <td>73</td>\n",
       "      <td>61</td>\n",
       "      <td>62</td>\n",
       "      <td>65</td>\n",
       "      <td>58</td>\n",
       "      <td>31</td>\n",
       "      <td>94</td>\n",
       "    </tr>\n",
       "  </tbody>\n",
       "</table>\n",
       "</div>"
      ],
      "text/plain": [
       "                                time  gender            age occupation  \\\n",
       "count                            122     122            122        122   \n",
       "unique                           122       2              4          4   \n",
       "top     2019/10/01 12:38:43 PM GMT+8  Female  From 20 to 29   Employed   \n",
       "freq                               1      65             85         61   \n",
       "\n",
       "                    income  visits   takeaway  \\\n",
       "count                  122     122        121   \n",
       "unique                   5       5          8   \n",
       "top     Less than RM25,000  Rarely  Take away   \n",
       "freq                    71      76         49   \n",
       "\n",
       "       7. How much time do you normally  spend during your visit?  \\\n",
       "count                                                 122           \n",
       "unique                                                  5           \n",
       "top                                      Below 30 minutes           \n",
       "freq                                                   73           \n",
       "\n",
       "              nearest card favourite            bill   promosource intent  \n",
       "count             122  122       122             122           121    122  \n",
       "unique              3    2        20               4            31      2  \n",
       "top     more than 3km   No    Coffee  Less than RM20  Social Media    Yes  \n",
       "freq               61   62        65              58            31     94  "
      ]
     },
     "execution_count": 13,
     "metadata": {},
     "output_type": "execute_result"
    }
   ],
   "source": [
    "survey.describe(include = 'object')"
   ]
  },
  {
   "cell_type": "markdown",
   "id": "7989cb7f",
   "metadata": {},
   "source": [
    "Видим, что в столбцах takeaway и promosource есть пропущенные данные, но это не повлияет на дальнейший анализ, поскольку эти переменные не являются объектами исследовательского интереса.\n",
    "\n",
    "По статистике можно сделать вывод, что самым частым возрастом в выборке стал 20-29 лет, большая часть выборки - работающие люди с доходом до 25 000 малайзийских ринггитов, самый популярный способ покупки - с собой, самое частое время, проведенное в Starbucks - до 30 минут."
   ]
  },
  {
   "cell_type": "code",
   "execution_count": 14,
   "id": "04af41f6",
   "metadata": {},
   "outputs": [
    {
     "data": {
      "text/plain": [
       "Female    65\n",
       "Male      57\n",
       "Name: gender, dtype: int64"
      ]
     },
     "execution_count": 14,
     "metadata": {},
     "output_type": "execute_result"
    }
   ],
   "source": [
    "survey.gender.value_counts()"
   ]
  },
  {
   "cell_type": "markdown",
   "id": "c4c11f38",
   "metadata": {},
   "source": [
    "В опросе участвовало 65 женщин и 57 мужчин."
   ]
  },
  {
   "cell_type": "code",
   "execution_count": 15,
   "id": "7877583a",
   "metadata": {},
   "outputs": [
    {
     "data": {
      "text/plain": [
       "visits   occupation   \n",
       "Daily    Self-employed     1\n",
       "         Student           1\n",
       "Monthly  Employed         16\n",
       "         Student           5\n",
       "         Self-employed     4\n",
       "         Housewife         1\n",
       "Never    Student           5\n",
       "         Employed          3\n",
       "         Self-employed     1\n",
       "Rarely   Employed         36\n",
       "         Student          30\n",
       "         Self-employed     9\n",
       "         Housewife         1\n",
       "Weekly   Employed          6\n",
       "         Self-employed     2\n",
       "         Student           1\n",
       "Name: occupation, dtype: int64"
      ]
     },
     "execution_count": 15,
     "metadata": {},
     "output_type": "execute_result"
    }
   ],
   "source": [
    "survey.groupby('visits')['occupation'].value_counts()"
   ]
  },
  {
   "cell_type": "code",
   "execution_count": 16,
   "id": "17df0655",
   "metadata": {},
   "outputs": [
    {
     "data": {
      "text/plain": [
       "<AxesSubplot:xlabel='visits'>"
      ]
     },
     "execution_count": 16,
     "metadata": {},
     "output_type": "execute_result"
    },
    {
     "data": {
      "image/png": "[encoded data removed]",
      "text/plain": [
       "<Figure size 432x288 with 1 Axes>"
      ]
     },
     "metadata": {
      "needs_background": "light"
     },
     "output_type": "display_data"
    }
   ],
   "source": [
    "survey.groupby('visits')['occupation'].value_counts().unstack().plot(kind='bar', stacked = True)"
   ]
  },
  {
   "cell_type": "markdown",
   "id": "95693030",
   "metadata": {},
   "source": [
    "Из группировки типа занятости респондентов по частоте посещения Starbucks можно сделать следующие выводы: только 2 человека из выборки ходят туда ежедневно, большинство респондентов ходят туда редко, и почти каждый четвертый в выборке посещает Starbucks раз в месяц."
   ]
  },
  {
   "cell_type": "code",
   "execution_count": 17,
   "id": "75fc93e1",
   "metadata": {},
   "outputs": [
    {
     "data": {
      "text/plain": [
       "nearest        visits \n",
       "1km - 3km      Rarely     20\n",
       "               Monthly     8\n",
       "               Weekly      4\n",
       "               Never       2\n",
       "more than 3km  Rarely     38\n",
       "               Monthly    14\n",
       "               Never       5\n",
       "               Daily       2\n",
       "               Weekly      2\n",
       "within 1km     Rarely     18\n",
       "               Monthly     4\n",
       "               Weekly      3\n",
       "               Never       2\n",
       "Name: visits, dtype: int64"
      ]
     },
     "execution_count": 17,
     "metadata": {},
     "output_type": "execute_result"
    }
   ],
   "source": [
    "survey.groupby('nearest')['visits'].value_counts()"
   ]
  },
  {
   "cell_type": "markdown",
   "id": "07543ff0",
   "metadata": {},
   "source": [
    "По этой группировке видно, что большая часть респондентов живет далеко от ближайшего Starbucks. Тем не менее, даже в группах 1-3км и до 1км самый популярный ответ о частоте посещения - редко."
   ]
  },
  {
   "cell_type": "code",
   "execution_count": 18,
   "id": "4c8cf9b3",
   "metadata": {},
   "outputs": [
    {
     "data": {
      "text/plain": [
       "gender  visits \n",
       "Female  Rarely     45\n",
       "        Monthly    10\n",
       "        Never       6\n",
       "        Weekly      4\n",
       "Male    Rarely     31\n",
       "        Monthly    16\n",
       "        Weekly      5\n",
       "        Never       3\n",
       "        Daily       2\n",
       "Name: visits, dtype: int64"
      ]
     },
     "execution_count": 18,
     "metadata": {},
     "output_type": "execute_result"
    }
   ],
   "source": [
    "survey.groupby('gender')['visits'].value_counts()"
   ]
  },
  {
   "cell_type": "code",
   "execution_count": 19,
   "id": "f959c006",
   "metadata": {},
   "outputs": [
    {
     "data": {
      "text/plain": [
       "(0.6923076923076923,\n",
       " 0.15384615384615385,\n",
       " 0.543859649122807,\n",
       " 0.2807017543859649)"
      ]
     },
     "execution_count": 19,
     "metadata": {},
     "output_type": "execute_result"
    }
   ],
   "source": [
    "45/65, 10/65, 31/57, 16/57"
   ]
  },
  {
   "cell_type": "markdown",
   "id": "7939df1a",
   "metadata": {},
   "source": [
    "В разделении на мужчин и женщин, женщины относительно меньше ходят в Starbucks, чем мужчины: \"редко\" ответили 69% женщин и 54% мужчин, а \"раз в месяц\" ответили 15% женщин и 28% мужчин. Возможно, это связано с тем, что среди работающего населения Малайзи, которого в нашей выборке большая часть, больше мужчин.\n",
    "\n",
    "Попробуем оценить важность факторов Starbucks для респондентов, просуммировав оценки по каждому фактору."
   ]
  },
  {
   "cell_type": "code",
   "execution_count": 20,
   "id": "b5c62807",
   "metadata": {},
   "outputs": [
    {
     "data": {
      "text/html": [
       "<div>\n",
       "<style scoped>\n",
       "    .dataframe tbody tr th:only-of-type {\n",
       "        vertical-align: middle;\n",
       "    }\n",
       "\n",
       "    .dataframe tbody tr th {\n",
       "        vertical-align: top;\n",
       "    }\n",
       "\n",
       "    .dataframe thead th {\n",
       "        text-align: right;\n",
       "    }\n",
       "</style>\n",
       "<table border=\"1\" class=\"dataframe\">\n",
       "  <thead>\n",
       "    <tr style=\"text-align: right;\">\n",
       "      <th></th>\n",
       "      <th>Фактор</th>\n",
       "      <th>Суммарная оценка</th>\n",
       "    </tr>\n",
       "  </thead>\n",
       "  <tbody>\n",
       "    <tr>\n",
       "      <th>0</th>\n",
       "      <td>Качество Starbucks в сравнении с аналогами</td>\n",
       "      <td>447</td>\n",
       "    </tr>\n",
       "    <tr>\n",
       "      <th>1</th>\n",
       "      <td>Ценовая политика</td>\n",
       "      <td>353</td>\n",
       "    </tr>\n",
       "    <tr>\n",
       "      <th>2</th>\n",
       "      <td>Эффективность рекламы</td>\n",
       "      <td>463</td>\n",
       "    </tr>\n",
       "    <tr>\n",
       "      <th>3</th>\n",
       "      <td>Атмосфера</td>\n",
       "      <td>458</td>\n",
       "    </tr>\n",
       "    <tr>\n",
       "      <th>4</th>\n",
       "      <td>Качество Wi-Fi</td>\n",
       "      <td>397</td>\n",
       "    </tr>\n",
       "    <tr>\n",
       "      <th>5</th>\n",
       "      <td>Качество сервиса</td>\n",
       "      <td>457</td>\n",
       "    </tr>\n",
       "  </tbody>\n",
       "</table>\n",
       "</div>"
      ],
      "text/plain": [
       "                                       Фактор  Суммарная оценка\n",
       "0  Качество Starbucks в сравнении с аналогами               447\n",
       "1                            Ценовая политика               353\n",
       "2                       Эффективность рекламы               463\n",
       "3                                   Атмосфера               458\n",
       "4                              Качество Wi-Fi               397\n",
       "5                            Качество сервиса               457"
      ]
     },
     "execution_count": 20,
     "metadata": {},
     "output_type": "execute_result"
    }
   ],
   "source": [
    "agg_score = {}\n",
    "agg_score['Качество Starbucks в сравнении с аналогами']= survey.quality.sum()\n",
    "agg_score['Ценовая политика']= survey.price.sum()\n",
    "agg_score['Эффективность рекламы']= survey.promoeffect.sum()\n",
    "agg_score['Атмосфера']= survey.vibe.sum()\n",
    "agg_score['Качество Wi-Fi']= survey.wifi.sum()\n",
    "agg_score['Качество сервиса']= survey.service.sum()\n",
    "score = pd.DataFrame(agg_score.items(), columns=['Фактор','Суммарная оценка'])\n",
    "score"
   ]
  },
  {
   "cell_type": "markdown",
   "id": "8d5cfcca",
   "metadata": {},
   "source": [
    "Самыми высокооцененными факторами Starbucks стали реклама и ее эффект, атмосфера и качество сервиса. Именно эти факторы имеет смысл анализировать в дальнейшем для определения их эффекта на выбор респондентами Starbucks."
   ]
  },
  {
   "cell_type": "markdown",
   "id": "fe7c609a",
   "metadata": {},
   "source": [
    "# Тестирование гипотез"
   ]
  },
  {
   "cell_type": "markdown",
   "id": "48b31e26",
   "metadata": {},
   "source": [
    "В этом исследовании будем тестировать гипотезу о том, что для работающих посетителей Starbucks цена кажется более приемлемой, чем для студентов.\n",
    "\n",
    "Для начала выделим из датасета две выборки - работающие и студенты."
   ]
  },
  {
   "cell_type": "code",
   "execution_count": 21,
   "id": "a3a18056",
   "metadata": {},
   "outputs": [],
   "source": [
    "students = survey[survey.occupation == 'Student']['price']\n",
    "workers = survey[survey.occupation == 'Employed']['price']"
   ]
  },
  {
   "cell_type": "markdown",
   "id": "737c03bc",
   "metadata": {},
   "source": [
    "Перед тестированием гипотез, проверим две основные предпосылки - нормальное распределение переменной и условие равенства дисперсий."
   ]
  },
  {
   "cell_type": "code",
   "execution_count": 22,
   "id": "e0694068",
   "metadata": {},
   "outputs": [
    {
     "data": {
      "text/plain": [
       "<AxesSubplot:>"
      ]
     },
     "execution_count": 22,
     "metadata": {},
     "output_type": "execute_result"
    },
    {
     "data": {
      "image/png": "[encoded data removed]",
      "text/plain": [
       "<Figure size 432x288 with 1 Axes>"
      ]
     },
     "metadata": {
      "needs_background": "light"
     },
     "output_type": "display_data"
    }
   ],
   "source": [
    "students.hist()"
   ]
  },
  {
   "cell_type": "code",
   "execution_count": 23,
   "id": "359d9889",
   "metadata": {},
   "outputs": [
    {
     "data": {
      "text/plain": [
       "<AxesSubplot:>"
      ]
     },
     "execution_count": 23,
     "metadata": {},
     "output_type": "execute_result"
    },
    {
     "data": {
      "image/png": "[encoded data removed]",
      "text/plain": [
       "<Figure size 432x288 with 1 Axes>"
      ]
     },
     "metadata": {
      "needs_background": "light"
     },
     "output_type": "display_data"
    }
   ],
   "source": [
    "workers.hist()"
   ]
  },
  {
   "cell_type": "markdown",
   "id": "5a4437e6",
   "metadata": {},
   "source": [
    "Распределения студентов и работающих близки к нормальному - гистограммы напоминают колокол Гаусса."
   ]
  },
  {
   "cell_type": "code",
   "execution_count": 24,
   "id": "de957e7c",
   "metadata": {},
   "outputs": [
    {
     "name": "stdout",
     "output_type": "stream",
     "text": [
      "1.133565621370499\n",
      "1.1945355191256828\n"
     ]
    }
   ],
   "source": [
    "print(students.var())\n",
    "print(workers.var())"
   ]
  },
  {
   "cell_type": "markdown",
   "id": "cfa91856",
   "metadata": {},
   "source": [
    "Дисперсии двух выборок сопоставимы, а значит, число степеней свободы будет вычисляться по формуле:"
   ]
  },
  {
   "cell_type": "markdown",
   "id": "ed9c3f69",
   "metadata": {},
   "source": [
    "$\n",
    "dofStudent = n1 + n2 - 2\n",
    "$"
   ]
  },
  {
   "cell_type": "code",
   "execution_count": 25,
   "id": "dbad4857",
   "metadata": {},
   "outputs": [
    {
     "data": {
      "text/plain": [
       "101"
      ]
     },
     "execution_count": 25,
     "metadata": {},
     "output_type": "execute_result"
    }
   ],
   "source": [
    "dof_student = len(students) + len(workers) - 2\n",
    "dof_student"
   ]
  },
  {
   "cell_type": "markdown",
   "id": "f0fdffcc",
   "metadata": {},
   "source": [
    "Возьмем уровень значимость 0.05, тогда для 101 степени свободы:\n",
    "\n",
    "Критическое значение t = 1.9837\n",
    "\n",
    "Критическая область (-∞ ; -1.9837) ∪ (1.9837 ; +∞)"
   ]
  },
  {
   "cell_type": "code",
   "execution_count": 26,
   "id": "aa338dd4",
   "metadata": {},
   "outputs": [],
   "source": [
    "def hypothesis_check(t,t_critical):\n",
    "    \n",
    " if abs(t) > t_critical:\n",
    "    print('Отвергаем H0 - Разница между средними статистически значима')\n",
    " else:\n",
    "    print('Подтверждаем HO')\n",
    "\n",
    "t_critical = 1.9837"
   ]
  },
  {
   "cell_type": "markdown",
   "id": "a04a4a44",
   "metadata": {},
   "source": [
    "Четко определим наши нулевую и альтернативную гипотезы:\n",
    "\n",
    "H0: Студенты и работающие одинаково воспринимают цену в Starbucks, и разница между восприятием статистически не значима.\n",
    "\n",
    "H1: Студенты и работающие по-разному воспринимают цену в Starbucks, и эта разница между восприятием статистически значима."
   ]
  },
  {
   "cell_type": "markdown",
   "id": "eb4df4f9",
   "metadata": {},
   "source": [
    "Найдем t:"
   ]
  },
  {
   "cell_type": "code",
   "execution_count": 27,
   "id": "ac73bf6f",
   "metadata": {},
   "outputs": [
    {
     "name": "stdout",
     "output_type": "stream",
     "text": [
      "0.21580594789194807\n"
     ]
    }
   ],
   "source": [
    "v_1 = students.var()/len(students)\n",
    "v_2 = workers.var()/len(workers)\n",
    "s_n1_n2 = np.sqrt(v_1 + v_2)\n",
    "print(s_n1_n2)"
   ]
  },
  {
   "cell_type": "code",
   "execution_count": 28,
   "id": "ee024cfd",
   "metadata": {},
   "outputs": [
    {
     "name": "stdout",
     "output_type": "stream",
     "text": [
      "-0.19895284300102148\n"
     ]
    }
   ],
   "source": [
    "t = (students.mean()-workers.mean())/s_n1_n2\n",
    "print(t)"
   ]
  },
  {
   "cell_type": "markdown",
   "id": "97f71d67",
   "metadata": {},
   "source": [
    "Теперь можем протестировать нашу гипотезу:"
   ]
  },
  {
   "cell_type": "code",
   "execution_count": 29,
   "id": "66a57f55",
   "metadata": {},
   "outputs": [
    {
     "name": "stdout",
     "output_type": "stream",
     "text": [
      "Подтверждаем HO\n"
     ]
    }
   ],
   "source": [
    "hypothesis_check(t,t_critical)"
   ]
  },
  {
   "cell_type": "markdown",
   "id": "24b700c0",
   "metadata": {},
   "source": [
    "Таким образом, мы подтверждаем нашу нулевую гипотезу о том, что студенты и работающие одинаково воспринимают цену в Starbucks, и разница между восприятием статистически не значима.\n",
    "\n",
    "Можно сделать вывод, что разница в статуса и доходе не отражается на восприятие ценовой политики Starbucks."
   ]
  },
  {
   "cell_type": "markdown",
   "id": "ef4d4655",
   "metadata": {},
   "source": [
    "# Линейная регрессия"
   ]
  },
  {
   "cell_type": "markdown",
   "id": "f35a6104",
   "metadata": {},
   "source": [
    "В исследовании будем использовать модель линейной регрессии для определения влияния различных характеристик Starbucks на выбор респондента провести там деловую или неформальную встречу.\n",
    "\n",
    "Перед построением линейной регрессии проверим две основные предпосылки - мультиколлинеарность\n",
    "и релевантность линейной регрессии для описания взаимосвязей."
   ]
  },
  {
   "cell_type": "code",
   "execution_count": 30,
   "id": "8768d588",
   "metadata": {},
   "outputs": [
    {
     "data": {
      "text/html": [
       "<div>\n",
       "<style scoped>\n",
       "    .dataframe tbody tr th:only-of-type {\n",
       "        vertical-align: middle;\n",
       "    }\n",
       "\n",
       "    .dataframe tbody tr th {\n",
       "        vertical-align: top;\n",
       "    }\n",
       "\n",
       "    .dataframe thead th {\n",
       "        text-align: right;\n",
       "    }\n",
       "</style>\n",
       "<table border=\"1\" class=\"dataframe\">\n",
       "  <thead>\n",
       "    <tr style=\"text-align: right;\">\n",
       "      <th></th>\n",
       "      <th>quality</th>\n",
       "      <th>price</th>\n",
       "      <th>promoeffect</th>\n",
       "      <th>vibe</th>\n",
       "      <th>wifi</th>\n",
       "      <th>service</th>\n",
       "      <th>choice</th>\n",
       "    </tr>\n",
       "  </thead>\n",
       "  <tbody>\n",
       "    <tr>\n",
       "      <th>0</th>\n",
       "      <td>4</td>\n",
       "      <td>3</td>\n",
       "      <td>5</td>\n",
       "      <td>5</td>\n",
       "      <td>4</td>\n",
       "      <td>4</td>\n",
       "      <td>3</td>\n",
       "    </tr>\n",
       "    <tr>\n",
       "      <th>1</th>\n",
       "      <td>4</td>\n",
       "      <td>3</td>\n",
       "      <td>4</td>\n",
       "      <td>4</td>\n",
       "      <td>4</td>\n",
       "      <td>5</td>\n",
       "      <td>2</td>\n",
       "    </tr>\n",
       "    <tr>\n",
       "      <th>2</th>\n",
       "      <td>4</td>\n",
       "      <td>3</td>\n",
       "      <td>4</td>\n",
       "      <td>4</td>\n",
       "      <td>4</td>\n",
       "      <td>4</td>\n",
       "      <td>3</td>\n",
       "    </tr>\n",
       "    <tr>\n",
       "      <th>3</th>\n",
       "      <td>2</td>\n",
       "      <td>1</td>\n",
       "      <td>4</td>\n",
       "      <td>3</td>\n",
       "      <td>3</td>\n",
       "      <td>3</td>\n",
       "      <td>3</td>\n",
       "    </tr>\n",
       "    <tr>\n",
       "      <th>4</th>\n",
       "      <td>3</td>\n",
       "      <td>3</td>\n",
       "      <td>4</td>\n",
       "      <td>2</td>\n",
       "      <td>2</td>\n",
       "      <td>3</td>\n",
       "      <td>3</td>\n",
       "    </tr>\n",
       "  </tbody>\n",
       "</table>\n",
       "</div>"
      ],
      "text/plain": [
       "   quality  price  promoeffect  vibe  wifi  service  choice\n",
       "0        4      3            5     5     4        4       3\n",
       "1        4      3            4     4     4        5       2\n",
       "2        4      3            4     4     4        4       3\n",
       "3        2      1            4     3     3        3       3\n",
       "4        3      3            4     2     2        3       3"
      ]
     },
     "execution_count": 30,
     "metadata": {},
     "output_type": "execute_result"
    }
   ],
   "source": [
    "surveyy = survey.iloc[:, [12, 13, 14, 15, 16, 17, 18]]\n",
    "surveyy.head()"
   ]
  },
  {
   "cell_type": "code",
   "execution_count": 31,
   "id": "b1768eab",
   "metadata": {},
   "outputs": [
    {
     "data": {
      "image/png": "[encoded data removed]",
      "text/plain": [
       "<Figure size 432x288 with 2 Axes>"
      ]
     },
     "metadata": {
      "needs_background": "light"
     },
     "output_type": "display_data"
    }
   ],
   "source": [
    "p = sns.heatmap(surveyy.corr(), annot = True, vmin = 1, vmax = 1)"
   ]
  },
  {
   "cell_type": "markdown",
   "id": "5c66113c",
   "metadata": {},
   "source": [
    "Мы видим, что значимых корреляций между переменными датасета нет. Это говорит о том, что мультиколлинеарности в будущей модели не будет, но вместе с этим мы рискуем получить статистически незначимые коэффициенты. "
   ]
  },
  {
   "cell_type": "code",
   "execution_count": 32,
   "id": "1692630d",
   "metadata": {},
   "outputs": [
    {
     "data": {
      "text/plain": [
       "<seaborn.axisgrid.PairGrid at 0x7fefdd27e910>"
      ]
     },
     "execution_count": 32,
     "metadata": {},
     "output_type": "execute_result"
    },
    {
     "data": {
      "image/png": "[encoded data removed]",
      "text/plain": [
       "<Figure size 1260x1260 with 56 Axes>"
      ]
     },
     "metadata": {
      "needs_background": "light"
     },
     "output_type": "display_data"
    }
   ],
   "source": [
    "sns.pairplot(surveyy)"
   ]
  },
  {
   "cell_type": "markdown",
   "id": "212b55b5",
   "metadata": {},
   "source": [
    "Можно увидеть, что некоторым графикам свойствена линия тренда и линейная зависимость может описать\n",
    "взаимосвязь данных."
   ]
  },
  {
   "cell_type": "markdown",
   "id": "e4c7fbec",
   "metadata": {},
   "source": [
    "Построим линейную модель регрессии - сначала с одной независимой переменной, потом с несколькими."
   ]
  },
  {
   "cell_type": "code",
   "execution_count": 33,
   "id": "99584f60",
   "metadata": {},
   "outputs": [
    {
     "name": "stdout",
     "output_type": "stream",
     "text": [
      "                            OLS Regression Results                            \n",
      "==============================================================================\n",
      "Dep. Variable:                 choice   R-squared:                       0.181\n",
      "Model:                            OLS   Adj. R-squared:                  0.175\n",
      "Method:                 Least Squares   F-statistic:                     26.59\n",
      "Date:                Wed, 14 Dec 2022   Prob (F-statistic):           1.01e-06\n",
      "Time:                        15:38:16   Log-Likelihood:                -164.05\n",
      "No. Observations:                 122   AIC:                             332.1\n",
      "Df Residuals:                     120   BIC:                             337.7\n",
      "Df Model:                           1                                         \n",
      "Covariance Type:            nonrobust                                         \n",
      "==============================================================================\n",
      "                 coef    std err          t      P>|t|      [0.025      0.975]\n",
      "------------------------------------------------------------------------------\n",
      "const          1.5332      0.394      3.893      0.000       0.753       2.313\n",
      "service        0.5294      0.103      5.156      0.000       0.326       0.733\n",
      "==============================================================================\n",
      "Omnibus:                       12.125   Durbin-Watson:                   1.760\n",
      "Prob(Omnibus):                  0.002   Jarque-Bera (JB):               12.665\n",
      "Skew:                          -0.718   Prob(JB):                      0.00178\n",
      "Kurtosis:                       3.655   Cond. No.                         19.0\n",
      "==============================================================================\n",
      "\n",
      "Notes:\n",
      "[1] Standard Errors assume that the covariance matrix of the errors is correctly specified.\n"
     ]
    }
   ],
   "source": [
    "y = surveyy.choice\n",
    "X_simple = sm.add_constant(surveyy.service)\n",
    "model = sm.OLS(y, X_simple)\n",
    "result = model.fit()\n",
    "print(result.summary())"
   ]
  },
  {
   "cell_type": "markdown",
   "id": "27ec2e1d",
   "metadata": {},
   "source": [
    "Судя по коэффициентам в модели, они статистически значимы и при повышении оценки респондентами сервиса Starbucks на 1.0, оценка их выбора Starbucks увеличится на 0.5. Тем не менее, коэффициент детерминации R2 равен 0.181, что говорит о низком качестве модели.\n",
    "\n",
    "Включим в модель линейной регрессии другие независимые переменные."
   ]
  },
  {
   "cell_type": "code",
   "execution_count": 34,
   "id": "abeb7b72",
   "metadata": {},
   "outputs": [
    {
     "name": "stdout",
     "output_type": "stream",
     "text": [
      "                            OLS Regression Results                            \n",
      "==============================================================================\n",
      "Dep. Variable:                 choice   R-squared:                       0.283\n",
      "Model:                            OLS   Adj. R-squared:                  0.246\n",
      "Method:                 Least Squares   F-statistic:                     7.577\n",
      "Date:                Wed, 14 Dec 2022   Prob (F-statistic):           7.31e-07\n",
      "Time:                        15:38:16   Log-Likelihood:                -155.94\n",
      "No. Observations:                 122   AIC:                             325.9\n",
      "Df Residuals:                     115   BIC:                             345.5\n",
      "Df Model:                           6                                         \n",
      "Covariance Type:            nonrobust                                         \n",
      "===============================================================================\n",
      "                  coef    std err          t      P>|t|      [0.025      0.975]\n",
      "-------------------------------------------------------------------------------\n",
      "const           0.9276      0.441      2.105      0.037       0.055       1.800\n",
      "quality         0.1963      0.117      1.681      0.095      -0.035       0.428\n",
      "price           0.2204      0.091      2.434      0.016       0.041       0.400\n",
      "promoeffect     0.0221      0.083      0.265      0.792      -0.143       0.187\n",
      "vibe           -0.0060      0.127     -0.047      0.963      -0.257       0.245\n",
      "wifi           -0.0197      0.108     -0.183      0.855      -0.233       0.194\n",
      "service         0.3296      0.139      2.366      0.020       0.054       0.606\n",
      "==============================================================================\n",
      "Omnibus:                       10.175   Durbin-Watson:                   1.755\n",
      "Prob(Omnibus):                  0.006   Jarque-Bera (JB):               10.778\n",
      "Skew:                          -0.579   Prob(JB):                      0.00457\n",
      "Kurtosis:                       3.882   Cond. No.                         48.7\n",
      "==============================================================================\n",
      "\n",
      "Notes:\n",
      "[1] Standard Errors assume that the covariance matrix of the errors is correctly specified.\n"
     ]
    }
   ],
   "source": [
    "y = surveyy.choice\n",
    "X = sm.add_constant(surveyy.drop('choice', axis = 1))\n",
    "model = sm.OLS(y, X)\n",
    "result = model.fit()\n",
    "print(result.summary())"
   ]
  },
  {
   "cell_type": "markdown",
   "id": "3cdfeff9",
   "metadata": {},
   "source": [
    "Видим, что относительно первой модели эта лучше объясняет взаимосвязи переменных - на 28%, однако коэффициент детерминации в модели все еще низкий.\n",
    "\n",
    "В модели с несколькими независимыми переменными при уровне значимости 5% статистически значимыми оказались коэффициенты перед переменными цены и сервиса.\n",
    "\n",
    "Так, при повышении оценки цены респондентом на 1.0, оценка выбора Starbucks повысится на 0.2, а при повышении оценки сервиса на 1.0 - на 0.3."
   ]
  },
  {
   "cell_type": "markdown",
   "id": "f3b326a7",
   "metadata": {},
   "source": [
    "# Логистическая регрессия"
   ]
  },
  {
   "cell_type": "markdown",
   "id": "061699d8",
   "metadata": {},
   "source": [
    "Далее предполагалось создать фиктивную переменную пола респондентов и построить логистическую модель регрессии. \n",
    "\n",
    "Для начала удостоверились, что переменная изначально категориальная, затем был применен get_dummies."
   ]
  },
  {
   "cell_type": "code",
   "execution_count": 35,
   "id": "2b2c1131",
   "metadata": {},
   "outputs": [],
   "source": [
    "survey.gender = survey.gender.astype('category')"
   ]
  },
  {
   "cell_type": "code",
   "execution_count": 36,
   "id": "fd348821",
   "metadata": {},
   "outputs": [
    {
     "data": {
      "text/html": [
       "<div>\n",
       "<style scoped>\n",
       "    .dataframe tbody tr th:only-of-type {\n",
       "        vertical-align: middle;\n",
       "    }\n",
       "\n",
       "    .dataframe tbody tr th {\n",
       "        vertical-align: top;\n",
       "    }\n",
       "\n",
       "    .dataframe thead th {\n",
       "        text-align: right;\n",
       "    }\n",
       "</style>\n",
       "<table border=\"1\" class=\"dataframe\">\n",
       "  <thead>\n",
       "    <tr style=\"text-align: right;\">\n",
       "      <th></th>\n",
       "      <th>time</th>\n",
       "      <th>age</th>\n",
       "      <th>occupation</th>\n",
       "      <th>income</th>\n",
       "      <th>visits</th>\n",
       "      <th>takeaway</th>\n",
       "      <th>7. How much time do you normally  spend during your visit?</th>\n",
       "      <th>nearest</th>\n",
       "      <th>card</th>\n",
       "      <th>favourite</th>\n",
       "      <th>...</th>\n",
       "      <th>quality</th>\n",
       "      <th>price</th>\n",
       "      <th>promoeffect</th>\n",
       "      <th>vibe</th>\n",
       "      <th>wifi</th>\n",
       "      <th>service</th>\n",
       "      <th>choice</th>\n",
       "      <th>promosource</th>\n",
       "      <th>intent</th>\n",
       "      <th>gender_Male</th>\n",
       "    </tr>\n",
       "  </thead>\n",
       "  <tbody>\n",
       "    <tr>\n",
       "      <th>0</th>\n",
       "      <td>2019/10/01 12:38:43 PM GMT+8</td>\n",
       "      <td>From 20 to 29</td>\n",
       "      <td>Student</td>\n",
       "      <td>Less than RM25,000</td>\n",
       "      <td>Rarely</td>\n",
       "      <td>Dine in</td>\n",
       "      <td>Between 30 minutes to 1 hour</td>\n",
       "      <td>within 1km</td>\n",
       "      <td>Yes</td>\n",
       "      <td>Coffee</td>\n",
       "      <td>...</td>\n",
       "      <td>4</td>\n",
       "      <td>3</td>\n",
       "      <td>5</td>\n",
       "      <td>5</td>\n",
       "      <td>4</td>\n",
       "      <td>4</td>\n",
       "      <td>3</td>\n",
       "      <td>Starbucks Website/Apps;Social Media;Emails;Dea...</td>\n",
       "      <td>Yes</td>\n",
       "      <td>0</td>\n",
       "    </tr>\n",
       "    <tr>\n",
       "      <th>1</th>\n",
       "      <td>2019/10/01 12:38:54 PM GMT+8</td>\n",
       "      <td>From 20 to 29</td>\n",
       "      <td>Student</td>\n",
       "      <td>Less than RM25,000</td>\n",
       "      <td>Rarely</td>\n",
       "      <td>Take away</td>\n",
       "      <td>Below 30 minutes</td>\n",
       "      <td>1km - 3km</td>\n",
       "      <td>Yes</td>\n",
       "      <td>Cold drinks;Pastries</td>\n",
       "      <td>...</td>\n",
       "      <td>4</td>\n",
       "      <td>3</td>\n",
       "      <td>4</td>\n",
       "      <td>4</td>\n",
       "      <td>4</td>\n",
       "      <td>5</td>\n",
       "      <td>2</td>\n",
       "      <td>Social Media;In Store displays</td>\n",
       "      <td>Yes</td>\n",
       "      <td>0</td>\n",
       "    </tr>\n",
       "    <tr>\n",
       "      <th>2</th>\n",
       "      <td>2019/10/01 12:38:56 PM GMT+8</td>\n",
       "      <td>From 20 to 29</td>\n",
       "      <td>Employed</td>\n",
       "      <td>Less than RM25,000</td>\n",
       "      <td>Monthly</td>\n",
       "      <td>Dine in</td>\n",
       "      <td>Between 30 minutes to 1 hour</td>\n",
       "      <td>more than 3km</td>\n",
       "      <td>Yes</td>\n",
       "      <td>Coffee</td>\n",
       "      <td>...</td>\n",
       "      <td>4</td>\n",
       "      <td>3</td>\n",
       "      <td>4</td>\n",
       "      <td>4</td>\n",
       "      <td>4</td>\n",
       "      <td>4</td>\n",
       "      <td>3</td>\n",
       "      <td>In Store displays;Billboards</td>\n",
       "      <td>Yes</td>\n",
       "      <td>1</td>\n",
       "    </tr>\n",
       "    <tr>\n",
       "      <th>3</th>\n",
       "      <td>2019/10/01 12:39:08 PM GMT+8</td>\n",
       "      <td>From 20 to 29</td>\n",
       "      <td>Student</td>\n",
       "      <td>Less than RM25,000</td>\n",
       "      <td>Rarely</td>\n",
       "      <td>Take away</td>\n",
       "      <td>Below 30 minutes</td>\n",
       "      <td>more than 3km</td>\n",
       "      <td>No</td>\n",
       "      <td>Coffee</td>\n",
       "      <td>...</td>\n",
       "      <td>2</td>\n",
       "      <td>1</td>\n",
       "      <td>4</td>\n",
       "      <td>3</td>\n",
       "      <td>3</td>\n",
       "      <td>3</td>\n",
       "      <td>3</td>\n",
       "      <td>Through friends and word of mouth</td>\n",
       "      <td>No</td>\n",
       "      <td>0</td>\n",
       "    </tr>\n",
       "    <tr>\n",
       "      <th>4</th>\n",
       "      <td>2019/10/01 12:39:20 PM GMT+8</td>\n",
       "      <td>From 20 to 29</td>\n",
       "      <td>Student</td>\n",
       "      <td>Less than RM25,000</td>\n",
       "      <td>Monthly</td>\n",
       "      <td>Take away</td>\n",
       "      <td>Between 30 minutes to 1 hour</td>\n",
       "      <td>1km - 3km</td>\n",
       "      <td>No</td>\n",
       "      <td>Coffee;Sandwiches</td>\n",
       "      <td>...</td>\n",
       "      <td>3</td>\n",
       "      <td>3</td>\n",
       "      <td>4</td>\n",
       "      <td>2</td>\n",
       "      <td>2</td>\n",
       "      <td>3</td>\n",
       "      <td>3</td>\n",
       "      <td>Starbucks Website/Apps;Social Media</td>\n",
       "      <td>Yes</td>\n",
       "      <td>1</td>\n",
       "    </tr>\n",
       "    <tr>\n",
       "      <th>...</th>\n",
       "      <td>...</td>\n",
       "      <td>...</td>\n",
       "      <td>...</td>\n",
       "      <td>...</td>\n",
       "      <td>...</td>\n",
       "      <td>...</td>\n",
       "      <td>...</td>\n",
       "      <td>...</td>\n",
       "      <td>...</td>\n",
       "      <td>...</td>\n",
       "      <td>...</td>\n",
       "      <td>...</td>\n",
       "      <td>...</td>\n",
       "      <td>...</td>\n",
       "      <td>...</td>\n",
       "      <td>...</td>\n",
       "      <td>...</td>\n",
       "      <td>...</td>\n",
       "      <td>...</td>\n",
       "      <td>...</td>\n",
       "      <td>...</td>\n",
       "    </tr>\n",
       "    <tr>\n",
       "      <th>117</th>\n",
       "      <td>2019/10/04 12:24:26 AM GMT+8</td>\n",
       "      <td>40 and above</td>\n",
       "      <td>Self-employed</td>\n",
       "      <td>RM25,000 - RM50,000</td>\n",
       "      <td>Monthly</td>\n",
       "      <td>Dine in</td>\n",
       "      <td>Between 1 hour to 2 hours</td>\n",
       "      <td>1km - 3km</td>\n",
       "      <td>Yes</td>\n",
       "      <td>Coffee</td>\n",
       "      <td>...</td>\n",
       "      <td>3</td>\n",
       "      <td>3</td>\n",
       "      <td>5</td>\n",
       "      <td>3</td>\n",
       "      <td>2</td>\n",
       "      <td>4</td>\n",
       "      <td>4</td>\n",
       "      <td>Starbucks Website/Apps;Social Media</td>\n",
       "      <td>Yes</td>\n",
       "      <td>1</td>\n",
       "    </tr>\n",
       "    <tr>\n",
       "      <th>118</th>\n",
       "      <td>2019/10/04 9:30:09 AM GMT+8</td>\n",
       "      <td>From 20 to 29</td>\n",
       "      <td>Employed</td>\n",
       "      <td>Less than RM25,000</td>\n",
       "      <td>Monthly</td>\n",
       "      <td>Dine in</td>\n",
       "      <td>Between 1 hour to 2 hours</td>\n",
       "      <td>1km - 3km</td>\n",
       "      <td>Yes</td>\n",
       "      <td>Coffee;Cold drinks;Juices;Pastries;Sandwiches</td>\n",
       "      <td>...</td>\n",
       "      <td>5</td>\n",
       "      <td>5</td>\n",
       "      <td>5</td>\n",
       "      <td>5</td>\n",
       "      <td>5</td>\n",
       "      <td>5</td>\n",
       "      <td>5</td>\n",
       "      <td>Starbucks Website/Apps;Social Media;Emails;Dea...</td>\n",
       "      <td>Yes</td>\n",
       "      <td>1</td>\n",
       "    </tr>\n",
       "    <tr>\n",
       "      <th>119</th>\n",
       "      <td>2019/10/04 1:46:07 PM GMT+8</td>\n",
       "      <td>From 20 to 29</td>\n",
       "      <td>Student</td>\n",
       "      <td>Less than RM25,000</td>\n",
       "      <td>Rarely</td>\n",
       "      <td>Dine in</td>\n",
       "      <td>Between 30 minutes to 1 hour</td>\n",
       "      <td>1km - 3km</td>\n",
       "      <td>No</td>\n",
       "      <td>Coffee;Cold drinks</td>\n",
       "      <td>...</td>\n",
       "      <td>3</td>\n",
       "      <td>2</td>\n",
       "      <td>4</td>\n",
       "      <td>3</td>\n",
       "      <td>3</td>\n",
       "      <td>3</td>\n",
       "      <td>4</td>\n",
       "      <td>Social Media;Through friends and word of mouth...</td>\n",
       "      <td>No</td>\n",
       "      <td>1</td>\n",
       "    </tr>\n",
       "    <tr>\n",
       "      <th>120</th>\n",
       "      <td>2019/10/05 11:01:14 AM GMT+8</td>\n",
       "      <td>From 20 to 29</td>\n",
       "      <td>Employed</td>\n",
       "      <td>Less than RM25,000</td>\n",
       "      <td>Rarely</td>\n",
       "      <td>Take away</td>\n",
       "      <td>Below 30 minutes</td>\n",
       "      <td>within 1km</td>\n",
       "      <td>No</td>\n",
       "      <td>Coffee</td>\n",
       "      <td>...</td>\n",
       "      <td>4</td>\n",
       "      <td>4</td>\n",
       "      <td>4</td>\n",
       "      <td>4</td>\n",
       "      <td>4</td>\n",
       "      <td>4</td>\n",
       "      <td>4</td>\n",
       "      <td>Social Media;Through friends and word of mouth...</td>\n",
       "      <td>Yes</td>\n",
       "      <td>0</td>\n",
       "    </tr>\n",
       "    <tr>\n",
       "      <th>121</th>\n",
       "      <td>2019/10/05 4:57:22 PM GMT+8</td>\n",
       "      <td>From 20 to 29</td>\n",
       "      <td>Employed</td>\n",
       "      <td>RM50,000 - RM100,000</td>\n",
       "      <td>Rarely</td>\n",
       "      <td>Dine in</td>\n",
       "      <td>Between 30 minutes to 1 hour</td>\n",
       "      <td>1km - 3km</td>\n",
       "      <td>No</td>\n",
       "      <td>Coffee</td>\n",
       "      <td>...</td>\n",
       "      <td>1</td>\n",
       "      <td>1</td>\n",
       "      <td>5</td>\n",
       "      <td>4</td>\n",
       "      <td>3</td>\n",
       "      <td>3</td>\n",
       "      <td>2</td>\n",
       "      <td>In Store displays</td>\n",
       "      <td>No</td>\n",
       "      <td>1</td>\n",
       "    </tr>\n",
       "  </tbody>\n",
       "</table>\n",
       "<p>122 rows × 21 columns</p>\n",
       "</div>"
      ],
      "text/plain": [
       "                             time            age     occupation  \\\n",
       "0    2019/10/01 12:38:43 PM GMT+8  From 20 to 29        Student   \n",
       "1    2019/10/01 12:38:54 PM GMT+8  From 20 to 29        Student   \n",
       "2    2019/10/01 12:38:56 PM GMT+8  From 20 to 29       Employed   \n",
       "3    2019/10/01 12:39:08 PM GMT+8  From 20 to 29        Student   \n",
       "4    2019/10/01 12:39:20 PM GMT+8  From 20 to 29        Student   \n",
       "..                            ...            ...            ...   \n",
       "117  2019/10/04 12:24:26 AM GMT+8   40 and above  Self-employed   \n",
       "118   2019/10/04 9:30:09 AM GMT+8  From 20 to 29       Employed   \n",
       "119   2019/10/04 1:46:07 PM GMT+8  From 20 to 29        Student   \n",
       "120  2019/10/05 11:01:14 AM GMT+8  From 20 to 29       Employed   \n",
       "121   2019/10/05 4:57:22 PM GMT+8  From 20 to 29       Employed   \n",
       "\n",
       "                   income   visits   takeaway  \\\n",
       "0      Less than RM25,000   Rarely    Dine in   \n",
       "1      Less than RM25,000   Rarely  Take away   \n",
       "2      Less than RM25,000  Monthly    Dine in   \n",
       "3      Less than RM25,000   Rarely  Take away   \n",
       "4      Less than RM25,000  Monthly  Take away   \n",
       "..                    ...      ...        ...   \n",
       "117   RM25,000 - RM50,000  Monthly    Dine in   \n",
       "118    Less than RM25,000  Monthly    Dine in   \n",
       "119    Less than RM25,000   Rarely    Dine in   \n",
       "120    Less than RM25,000   Rarely  Take away   \n",
       "121  RM50,000 - RM100,000   Rarely    Dine in   \n",
       "\n",
       "    7. How much time do you normally  spend during your visit?        nearest  \\\n",
       "0                         Between 30 minutes to 1 hour             within 1km   \n",
       "1                                     Below 30 minutes              1km - 3km   \n",
       "2                         Between 30 minutes to 1 hour          more than 3km   \n",
       "3                                     Below 30 minutes          more than 3km   \n",
       "4                         Between 30 minutes to 1 hour              1km - 3km   \n",
       "..                                                 ...                    ...   \n",
       "117                          Between 1 hour to 2 hours              1km - 3km   \n",
       "118                          Between 1 hour to 2 hours              1km - 3km   \n",
       "119                       Between 30 minutes to 1 hour              1km - 3km   \n",
       "120                                   Below 30 minutes             within 1km   \n",
       "121                       Between 30 minutes to 1 hour              1km - 3km   \n",
       "\n",
       "    card                                      favourite  ... quality  price  \\\n",
       "0    Yes                                         Coffee  ...       4      3   \n",
       "1    Yes                           Cold drinks;Pastries  ...       4      3   \n",
       "2    Yes                                         Coffee  ...       4      3   \n",
       "3     No                                         Coffee  ...       2      1   \n",
       "4     No                              Coffee;Sandwiches  ...       3      3   \n",
       "..   ...                                            ...  ...     ...    ...   \n",
       "117  Yes                                         Coffee  ...       3      3   \n",
       "118  Yes  Coffee;Cold drinks;Juices;Pastries;Sandwiches  ...       5      5   \n",
       "119   No                             Coffee;Cold drinks  ...       3      2   \n",
       "120   No                                         Coffee  ...       4      4   \n",
       "121   No                                         Coffee  ...       1      1   \n",
       "\n",
       "     promoeffect  vibe  wifi  service  choice  \\\n",
       "0              5     5     4        4       3   \n",
       "1              4     4     4        5       2   \n",
       "2              4     4     4        4       3   \n",
       "3              4     3     3        3       3   \n",
       "4              4     2     2        3       3   \n",
       "..           ...   ...   ...      ...     ...   \n",
       "117            5     3     2        4       4   \n",
       "118            5     5     5        5       5   \n",
       "119            4     3     3        3       4   \n",
       "120            4     4     4        4       4   \n",
       "121            5     4     3        3       2   \n",
       "\n",
       "                                           promosource intent gender_Male  \n",
       "0    Starbucks Website/Apps;Social Media;Emails;Dea...    Yes           0  \n",
       "1                       Social Media;In Store displays    Yes           0  \n",
       "2                         In Store displays;Billboards    Yes           1  \n",
       "3                    Through friends and word of mouth     No           0  \n",
       "4                  Starbucks Website/Apps;Social Media    Yes           1  \n",
       "..                                                 ...    ...         ...  \n",
       "117                Starbucks Website/Apps;Social Media    Yes           1  \n",
       "118  Starbucks Website/Apps;Social Media;Emails;Dea...    Yes           1  \n",
       "119  Social Media;Through friends and word of mouth...     No           1  \n",
       "120  Social Media;Through friends and word of mouth...    Yes           0  \n",
       "121                                  In Store displays     No           1  \n",
       "\n",
       "[122 rows x 21 columns]"
      ]
     },
     "execution_count": 36,
     "metadata": {},
     "output_type": "execute_result"
    }
   ],
   "source": [
    "pd.get_dummies(survey, columns=['gender'], drop_first = True)"
   ]
  },
  {
   "cell_type": "markdown",
   "id": "920293d9",
   "metadata": {},
   "source": [
    "Видим, что последний столбец, переменная gender_Male, стала бинарным, фиктивным."
   ]
  },
  {
   "cell_type": "code",
   "execution_count": 37,
   "id": "7eda4b05",
   "metadata": {},
   "outputs": [
    {
     "ename": "ValueError",
     "evalue": "Pandas data cast to numpy dtype of object. Check input data with np.asarray(data).",
     "output_type": "error",
     "traceback": [
      "\u001b[0;31m---------------------------------------------------------------------------\u001b[0m",
      "\u001b[0;31mValueError\u001b[0m                                Traceback (most recent call last)",
      "Input \u001b[0;32mIn [37]\u001b[0m, in \u001b[0;36m<cell line: 3>\u001b[0;34m()\u001b[0m\n\u001b[1;32m      1\u001b[0m y \u001b[38;5;241m=\u001b[39m survey\u001b[38;5;241m.\u001b[39mchoice\n\u001b[1;32m      2\u001b[0m X_simple \u001b[38;5;241m=\u001b[39m sm\u001b[38;5;241m.\u001b[39madd_constant(survey\u001b[38;5;241m.\u001b[39mgender)\n\u001b[0;32m----> 3\u001b[0m logit \u001b[38;5;241m=\u001b[39m \u001b[43msm\u001b[49m\u001b[38;5;241;43m.\u001b[39;49m\u001b[43mLogit\u001b[49m\u001b[43m(\u001b[49m\u001b[43my\u001b[49m\u001b[43m,\u001b[49m\u001b[43m \u001b[49m\u001b[43mX_simple\u001b[49m\u001b[43m)\u001b[49m\n\u001b[1;32m      4\u001b[0m result \u001b[38;5;241m=\u001b[39m Logit\u001b[38;5;241m.\u001b[39mfit()\n\u001b[1;32m      5\u001b[0m \u001b[38;5;28mprint\u001b[39m(result\u001b[38;5;241m.\u001b[39msummary())\n",
      "File \u001b[0;32m~/opt/anaconda3/lib/python3.9/site-packages/statsmodels/discrete/discrete_model.py:462\u001b[0m, in \u001b[0;36mBinaryModel.__init__\u001b[0;34m(self, endog, exog, check_rank, **kwargs)\u001b[0m\n\u001b[1;32m    459\u001b[0m \u001b[38;5;28;01mdef\u001b[39;00m \u001b[38;5;21m__init__\u001b[39m(\u001b[38;5;28mself\u001b[39m, endog, exog, check_rank\u001b[38;5;241m=\u001b[39m\u001b[38;5;28;01mTrue\u001b[39;00m, \u001b[38;5;241m*\u001b[39m\u001b[38;5;241m*\u001b[39mkwargs):\n\u001b[1;32m    460\u001b[0m     \u001b[38;5;66;03m# unconditional check, requires no extra kwargs added by subclasses\u001b[39;00m\n\u001b[1;32m    461\u001b[0m     \u001b[38;5;28mself\u001b[39m\u001b[38;5;241m.\u001b[39m_check_kwargs(kwargs)\n\u001b[0;32m--> 462\u001b[0m     \u001b[38;5;28;43msuper\u001b[39;49m\u001b[43m(\u001b[49m\u001b[43m)\u001b[49m\u001b[38;5;241;43m.\u001b[39;49m\u001b[38;5;21;43m__init__\u001b[39;49m\u001b[43m(\u001b[49m\u001b[43mendog\u001b[49m\u001b[43m,\u001b[49m\u001b[43m \u001b[49m\u001b[43mexog\u001b[49m\u001b[43m,\u001b[49m\u001b[43m \u001b[49m\u001b[43mcheck_rank\u001b[49m\u001b[43m,\u001b[49m\u001b[43m \u001b[49m\u001b[38;5;241;43m*\u001b[39;49m\u001b[38;5;241;43m*\u001b[39;49m\u001b[43mkwargs\u001b[49m\u001b[43m)\u001b[49m\n\u001b[1;32m    463\u001b[0m     \u001b[38;5;28;01mif\u001b[39;00m \u001b[38;5;129;01mnot\u001b[39;00m \u001b[38;5;28missubclass\u001b[39m(\u001b[38;5;28mself\u001b[39m\u001b[38;5;241m.\u001b[39m\u001b[38;5;18m__class__\u001b[39m, MultinomialModel):\n\u001b[1;32m    464\u001b[0m         \u001b[38;5;28;01mif\u001b[39;00m \u001b[38;5;129;01mnot\u001b[39;00m np\u001b[38;5;241m.\u001b[39mall((\u001b[38;5;28mself\u001b[39m\u001b[38;5;241m.\u001b[39mendog \u001b[38;5;241m>\u001b[39m\u001b[38;5;241m=\u001b[39m \u001b[38;5;241m0\u001b[39m) \u001b[38;5;241m&\u001b[39m (\u001b[38;5;28mself\u001b[39m\u001b[38;5;241m.\u001b[39mendog \u001b[38;5;241m<\u001b[39m\u001b[38;5;241m=\u001b[39m \u001b[38;5;241m1\u001b[39m)):\n",
      "File \u001b[0;32m~/opt/anaconda3/lib/python3.9/site-packages/statsmodels/discrete/discrete_model.py:178\u001b[0m, in \u001b[0;36mDiscreteModel.__init__\u001b[0;34m(self, endog, exog, check_rank, **kwargs)\u001b[0m\n\u001b[1;32m    176\u001b[0m \u001b[38;5;28;01mdef\u001b[39;00m \u001b[38;5;21m__init__\u001b[39m(\u001b[38;5;28mself\u001b[39m, endog, exog, check_rank\u001b[38;5;241m=\u001b[39m\u001b[38;5;28;01mTrue\u001b[39;00m, \u001b[38;5;241m*\u001b[39m\u001b[38;5;241m*\u001b[39mkwargs):\n\u001b[1;32m    177\u001b[0m     \u001b[38;5;28mself\u001b[39m\u001b[38;5;241m.\u001b[39m_check_rank \u001b[38;5;241m=\u001b[39m check_rank\n\u001b[0;32m--> 178\u001b[0m     \u001b[38;5;28;43msuper\u001b[39;49m\u001b[43m(\u001b[49m\u001b[43m)\u001b[49m\u001b[38;5;241;43m.\u001b[39;49m\u001b[38;5;21;43m__init__\u001b[39;49m\u001b[43m(\u001b[49m\u001b[43mendog\u001b[49m\u001b[43m,\u001b[49m\u001b[43m \u001b[49m\u001b[43mexog\u001b[49m\u001b[43m,\u001b[49m\u001b[43m \u001b[49m\u001b[38;5;241;43m*\u001b[39;49m\u001b[38;5;241;43m*\u001b[39;49m\u001b[43mkwargs\u001b[49m\u001b[43m)\u001b[49m\n\u001b[1;32m    179\u001b[0m     \u001b[38;5;28mself\u001b[39m\u001b[38;5;241m.\u001b[39mraise_on_perfect_prediction \u001b[38;5;241m=\u001b[39m \u001b[38;5;28;01mTrue\u001b[39;00m\n",
      "File \u001b[0;32m~/opt/anaconda3/lib/python3.9/site-packages/statsmodels/base/model.py:267\u001b[0m, in \u001b[0;36mLikelihoodModel.__init__\u001b[0;34m(self, endog, exog, **kwargs)\u001b[0m\n\u001b[1;32m    266\u001b[0m \u001b[38;5;28;01mdef\u001b[39;00m \u001b[38;5;21m__init__\u001b[39m(\u001b[38;5;28mself\u001b[39m, endog, exog\u001b[38;5;241m=\u001b[39m\u001b[38;5;28;01mNone\u001b[39;00m, \u001b[38;5;241m*\u001b[39m\u001b[38;5;241m*\u001b[39mkwargs):\n\u001b[0;32m--> 267\u001b[0m     \u001b[38;5;28;43msuper\u001b[39;49m\u001b[43m(\u001b[49m\u001b[43m)\u001b[49m\u001b[38;5;241;43m.\u001b[39;49m\u001b[38;5;21;43m__init__\u001b[39;49m\u001b[43m(\u001b[49m\u001b[43mendog\u001b[49m\u001b[43m,\u001b[49m\u001b[43m \u001b[49m\u001b[43mexog\u001b[49m\u001b[43m,\u001b[49m\u001b[43m \u001b[49m\u001b[38;5;241;43m*\u001b[39;49m\u001b[38;5;241;43m*\u001b[39;49m\u001b[43mkwargs\u001b[49m\u001b[43m)\u001b[49m\n\u001b[1;32m    268\u001b[0m     \u001b[38;5;28mself\u001b[39m\u001b[38;5;241m.\u001b[39minitialize()\n",
      "File \u001b[0;32m~/opt/anaconda3/lib/python3.9/site-packages/statsmodels/base/model.py:92\u001b[0m, in \u001b[0;36mModel.__init__\u001b[0;34m(self, endog, exog, **kwargs)\u001b[0m\n\u001b[1;32m     90\u001b[0m missing \u001b[38;5;241m=\u001b[39m kwargs\u001b[38;5;241m.\u001b[39mpop(\u001b[38;5;124m'\u001b[39m\u001b[38;5;124mmissing\u001b[39m\u001b[38;5;124m'\u001b[39m, \u001b[38;5;124m'\u001b[39m\u001b[38;5;124mnone\u001b[39m\u001b[38;5;124m'\u001b[39m)\n\u001b[1;32m     91\u001b[0m hasconst \u001b[38;5;241m=\u001b[39m kwargs\u001b[38;5;241m.\u001b[39mpop(\u001b[38;5;124m'\u001b[39m\u001b[38;5;124mhasconst\u001b[39m\u001b[38;5;124m'\u001b[39m, \u001b[38;5;28;01mNone\u001b[39;00m)\n\u001b[0;32m---> 92\u001b[0m \u001b[38;5;28mself\u001b[39m\u001b[38;5;241m.\u001b[39mdata \u001b[38;5;241m=\u001b[39m \u001b[38;5;28;43mself\u001b[39;49m\u001b[38;5;241;43m.\u001b[39;49m\u001b[43m_handle_data\u001b[49m\u001b[43m(\u001b[49m\u001b[43mendog\u001b[49m\u001b[43m,\u001b[49m\u001b[43m \u001b[49m\u001b[43mexog\u001b[49m\u001b[43m,\u001b[49m\u001b[43m \u001b[49m\u001b[43mmissing\u001b[49m\u001b[43m,\u001b[49m\u001b[43m \u001b[49m\u001b[43mhasconst\u001b[49m\u001b[43m,\u001b[49m\n\u001b[1;32m     93\u001b[0m \u001b[43m                              \u001b[49m\u001b[38;5;241;43m*\u001b[39;49m\u001b[38;5;241;43m*\u001b[39;49m\u001b[43mkwargs\u001b[49m\u001b[43m)\u001b[49m\n\u001b[1;32m     94\u001b[0m \u001b[38;5;28mself\u001b[39m\u001b[38;5;241m.\u001b[39mk_constant \u001b[38;5;241m=\u001b[39m \u001b[38;5;28mself\u001b[39m\u001b[38;5;241m.\u001b[39mdata\u001b[38;5;241m.\u001b[39mk_constant\n\u001b[1;32m     95\u001b[0m \u001b[38;5;28mself\u001b[39m\u001b[38;5;241m.\u001b[39mexog \u001b[38;5;241m=\u001b[39m \u001b[38;5;28mself\u001b[39m\u001b[38;5;241m.\u001b[39mdata\u001b[38;5;241m.\u001b[39mexog\n",
      "File \u001b[0;32m~/opt/anaconda3/lib/python3.9/site-packages/statsmodels/base/model.py:132\u001b[0m, in \u001b[0;36mModel._handle_data\u001b[0;34m(self, endog, exog, missing, hasconst, **kwargs)\u001b[0m\n\u001b[1;32m    131\u001b[0m \u001b[38;5;28;01mdef\u001b[39;00m \u001b[38;5;21m_handle_data\u001b[39m(\u001b[38;5;28mself\u001b[39m, endog, exog, missing, hasconst, \u001b[38;5;241m*\u001b[39m\u001b[38;5;241m*\u001b[39mkwargs):\n\u001b[0;32m--> 132\u001b[0m     data \u001b[38;5;241m=\u001b[39m \u001b[43mhandle_data\u001b[49m\u001b[43m(\u001b[49m\u001b[43mendog\u001b[49m\u001b[43m,\u001b[49m\u001b[43m \u001b[49m\u001b[43mexog\u001b[49m\u001b[43m,\u001b[49m\u001b[43m \u001b[49m\u001b[43mmissing\u001b[49m\u001b[43m,\u001b[49m\u001b[43m \u001b[49m\u001b[43mhasconst\u001b[49m\u001b[43m,\u001b[49m\u001b[43m \u001b[49m\u001b[38;5;241;43m*\u001b[39;49m\u001b[38;5;241;43m*\u001b[39;49m\u001b[43mkwargs\u001b[49m\u001b[43m)\u001b[49m\n\u001b[1;32m    133\u001b[0m     \u001b[38;5;66;03m# kwargs arrays could have changed, easier to just attach here\u001b[39;00m\n\u001b[1;32m    134\u001b[0m     \u001b[38;5;28;01mfor\u001b[39;00m key \u001b[38;5;129;01min\u001b[39;00m kwargs:\n",
      "File \u001b[0;32m~/opt/anaconda3/lib/python3.9/site-packages/statsmodels/base/data.py:673\u001b[0m, in \u001b[0;36mhandle_data\u001b[0;34m(endog, exog, missing, hasconst, **kwargs)\u001b[0m\n\u001b[1;32m    670\u001b[0m     exog \u001b[38;5;241m=\u001b[39m np\u001b[38;5;241m.\u001b[39masarray(exog)\n\u001b[1;32m    672\u001b[0m klass \u001b[38;5;241m=\u001b[39m handle_data_class_factory(endog, exog)\n\u001b[0;32m--> 673\u001b[0m \u001b[38;5;28;01mreturn\u001b[39;00m \u001b[43mklass\u001b[49m\u001b[43m(\u001b[49m\u001b[43mendog\u001b[49m\u001b[43m,\u001b[49m\u001b[43m \u001b[49m\u001b[43mexog\u001b[49m\u001b[38;5;241;43m=\u001b[39;49m\u001b[43mexog\u001b[49m\u001b[43m,\u001b[49m\u001b[43m \u001b[49m\u001b[43mmissing\u001b[49m\u001b[38;5;241;43m=\u001b[39;49m\u001b[43mmissing\u001b[49m\u001b[43m,\u001b[49m\u001b[43m \u001b[49m\u001b[43mhasconst\u001b[49m\u001b[38;5;241;43m=\u001b[39;49m\u001b[43mhasconst\u001b[49m\u001b[43m,\u001b[49m\n\u001b[1;32m    674\u001b[0m \u001b[43m             \u001b[49m\u001b[38;5;241;43m*\u001b[39;49m\u001b[38;5;241;43m*\u001b[39;49m\u001b[43mkwargs\u001b[49m\u001b[43m)\u001b[49m\n",
      "File \u001b[0;32m~/opt/anaconda3/lib/python3.9/site-packages/statsmodels/base/data.py:82\u001b[0m, in \u001b[0;36mModelData.__init__\u001b[0;34m(self, endog, exog, missing, hasconst, **kwargs)\u001b[0m\n\u001b[1;32m     80\u001b[0m     \u001b[38;5;28mself\u001b[39m\u001b[38;5;241m.\u001b[39morig_endog \u001b[38;5;241m=\u001b[39m endog\n\u001b[1;32m     81\u001b[0m     \u001b[38;5;28mself\u001b[39m\u001b[38;5;241m.\u001b[39morig_exog \u001b[38;5;241m=\u001b[39m exog\n\u001b[0;32m---> 82\u001b[0m     \u001b[38;5;28mself\u001b[39m\u001b[38;5;241m.\u001b[39mendog, \u001b[38;5;28mself\u001b[39m\u001b[38;5;241m.\u001b[39mexog \u001b[38;5;241m=\u001b[39m \u001b[38;5;28;43mself\u001b[39;49m\u001b[38;5;241;43m.\u001b[39;49m\u001b[43m_convert_endog_exog\u001b[49m\u001b[43m(\u001b[49m\u001b[43mendog\u001b[49m\u001b[43m,\u001b[49m\u001b[43m \u001b[49m\u001b[43mexog\u001b[49m\u001b[43m)\u001b[49m\n\u001b[1;32m     84\u001b[0m \u001b[38;5;28mself\u001b[39m\u001b[38;5;241m.\u001b[39mconst_idx \u001b[38;5;241m=\u001b[39m \u001b[38;5;28;01mNone\u001b[39;00m\n\u001b[1;32m     85\u001b[0m \u001b[38;5;28mself\u001b[39m\u001b[38;5;241m.\u001b[39mk_constant \u001b[38;5;241m=\u001b[39m \u001b[38;5;241m0\u001b[39m\n",
      "File \u001b[0;32m~/opt/anaconda3/lib/python3.9/site-packages/statsmodels/base/data.py:507\u001b[0m, in \u001b[0;36mPandasData._convert_endog_exog\u001b[0;34m(self, endog, exog)\u001b[0m\n\u001b[1;32m    505\u001b[0m exog \u001b[38;5;241m=\u001b[39m exog \u001b[38;5;28;01mif\u001b[39;00m exog \u001b[38;5;129;01mis\u001b[39;00m \u001b[38;5;28;01mNone\u001b[39;00m \u001b[38;5;28;01melse\u001b[39;00m np\u001b[38;5;241m.\u001b[39masarray(exog)\n\u001b[1;32m    506\u001b[0m \u001b[38;5;28;01mif\u001b[39;00m endog\u001b[38;5;241m.\u001b[39mdtype \u001b[38;5;241m==\u001b[39m \u001b[38;5;28mobject\u001b[39m \u001b[38;5;129;01mor\u001b[39;00m exog \u001b[38;5;129;01mis\u001b[39;00m \u001b[38;5;129;01mnot\u001b[39;00m \u001b[38;5;28;01mNone\u001b[39;00m \u001b[38;5;129;01mand\u001b[39;00m exog\u001b[38;5;241m.\u001b[39mdtype \u001b[38;5;241m==\u001b[39m \u001b[38;5;28mobject\u001b[39m:\n\u001b[0;32m--> 507\u001b[0m     \u001b[38;5;28;01mraise\u001b[39;00m \u001b[38;5;167;01mValueError\u001b[39;00m(\u001b[38;5;124m\"\u001b[39m\u001b[38;5;124mPandas data cast to numpy dtype of object. \u001b[39m\u001b[38;5;124m\"\u001b[39m\n\u001b[1;32m    508\u001b[0m                      \u001b[38;5;124m\"\u001b[39m\u001b[38;5;124mCheck input data with np.asarray(data).\u001b[39m\u001b[38;5;124m\"\u001b[39m)\n\u001b[1;32m    509\u001b[0m \u001b[38;5;28;01mreturn\u001b[39;00m \u001b[38;5;28msuper\u001b[39m(PandasData, \u001b[38;5;28mself\u001b[39m)\u001b[38;5;241m.\u001b[39m_convert_endog_exog(endog, exog)\n",
      "\u001b[0;31mValueError\u001b[0m: Pandas data cast to numpy dtype of object. Check input data with np.asarray(data)."
     ]
    }
   ],
   "source": [
    "y = survey.choice\n",
    "X_simple = sm.add_constant(survey.gender)\n",
    "logit = sm.Logit(y, X_simple)\n",
    "result = Logit.fit()\n",
    "print(result.summary())"
   ]
  },
  {
   "cell_type": "markdown",
   "id": "67f2fbaa",
   "metadata": {},
   "source": [
    "Но на этапе построения модели логистической регрессии с одной переменной пола, выдается ошибка. Результаты модели так и удалось увидеть, но видна логика построения регрессии."
   ]
  },
  {
   "cell_type": "markdown",
   "id": "c14ad4a6",
   "metadata": {},
   "source": [
    "# Заключение"
   ]
  },
  {
   "cell_type": "markdown",
   "id": "98b86610",
   "metadata": {},
   "source": [
    "В заключение исследования поведения и отношения респондентов к Starbucks, можно сделать следующие выводы:\n",
    "    \n",
    "* такие характеристики как качество продукции относительно аналогов, реклама и ее эффективность, атмосфера, качество Wi-Fi в кофейнях и сервис респонденты оценили, в среднем на 3.5-3.8 из 5.0\n",
    "\n",
    "\n",
    "* характеристика цена была оценена, в среднем, на 2.9/5.0, что ниже оценок других факторов, и это логично - цены в Starbucks выше среднего\n",
    "\n",
    "\n",
    "* 25% или больше респондентов выборки оценили влияние рекламы на их решение о покупке в Starbucks на 5.0/5.0, что объясняется большой ролью бренда и маркетинга в компании Starbucks\n",
    "\n",
    "\n",
    "* самый популярный способ покупки в выборке - взять с собой\n",
    "\n",
    "\n",
    "* самое частое время, которое посетители проводят в Starbucks - до 30 минут\n",
    "\n",
    "\n",
    "* большинство респондентов выборки ходят в Starbucks редко, почти каждый четвертый посещает Starbucks раз в месяц, и только 2 человека из опрошенных ходят туда ежедневно\n",
    "\n",
    "\n",
    "* независимо от расстояния до ближайшей кофейн - до 1км, 1-3км или больше 3 км, респонденты посещают Starbucks редко\n",
    "\n",
    "\n",
    "* женщины относительно меньше ходят в Starbucks, чем мужчины - \"редко\" ответили 69% женщин и 54% мужчин, а \"раз в месяц\" ответили 15% женщин и 28% мужчин, это может быть связано с тем, что среди работающего населения Малайзи, которого в нашей выборке большая часть, больше мужчин\n",
    "\n",
    "\n",
    "* cамыми высокооцененными характеристиками Starbucks стали реклама и продвижение, атмосфера и качество сервиса в кофейнях\n",
    "\n",
    "Также гипотеза о том, что для работающих посетителей Starbucks цена кажется более приемлемой, чем для студентов, соответственно их оценка цены выше, чем у вторых, была ложной.\n",
    "\n",
    "Тестирование показало, что студенты и работающие одинаково воспринимают цену в Starbucks, и разница между восприятием статистически не значима, на основе чего можем сделать вывод, что разница в статуса и доходе не отражается на восприятие ценовой политики Starbucks.\n",
    "\n",
    "По результатам оценки модели линейной регрессии можно сделать вывод, при повышении оценки цены респондентом на 1.0, оценка выбора Starbucks повысится на 0.2, а при повышении оценки сервиса на 1.0 - на 0.3."
   ]
  }
 ],
 "metadata": {
  "kernelspec": {
   "display_name": "Python 3 (ipykernel)",
   "language": "python",
   "name": "python3"
  },
  "language_info": {
   "codemirror_mode": {
    "name": "ipython",
    "version": 3
   },
   "file_extension": ".py",
   "mimetype": "text/x-python",
   "name": "python",
   "nbconvert_exporter": "python",
   "pygments_lexer": "ipython3",
   "version": "3.9.12"
  }
 },
 "nbformat": 4,
 "nbformat_minor": 5
}
